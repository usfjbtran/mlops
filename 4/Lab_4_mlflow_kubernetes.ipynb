{
 "cells": [
  {
   "attachments": {},
   "cell_type": "markdown",
   "metadata": {},
   "source": [
    "# Experiment Tracking with MLFlow (Local)\n",
    "\n",
    "In this demo we will see how to use MLFlow for tracking experiments, using a toy data set. In the attached lab (below), you will download a larger dataset and attempt to train the best model that you can.\n",
    "\n",
    "We should first install mlflow, and add it to the requirements.txt file if not done already.\n",
    "\n",
    "`pip install mlflow` or `python3 -m pip install mlflow`.\n",
    "\n",
    "You may also need to `pip install setuptools`.\n",
    "\n",
    "From here, make sure to save this notebook in a specific folder, and ensure you run all command line commands from the same folder."
   ]
  },
  {
   "cell_type": "code",
   "execution_count": 67,
   "metadata": {},
   "outputs": [],
   "source": [
    "# !pip install mlflow \n",
    "# !pip install setuptools"
   ]
  },
  {
   "cell_type": "code",
   "execution_count": 68,
   "metadata": {},
   "outputs": [],
   "source": [
    "# !pip install --quiet mlflow setuptools"
   ]
  },
  {
   "cell_type": "code",
   "execution_count": 14,
   "metadata": {},
   "outputs": [],
   "source": [
    "import mlflow\n",
    "import pandas as pd\n",
    "from sklearn.tree import DecisionTreeClassifier\n",
    "from sklearn.datasets import load_wine\n",
    "from sklearn.metrics import accuracy_score"
   ]
  },
  {
   "attachments": {},
   "cell_type": "markdown",
   "metadata": {},
   "source": [
    "After loading the libraries, we can first check the mlflow version you have. And, just for fun, let's look at the mlflow UI by running `mlflow ui`. After this, we should do two things:\n",
    "- set the tracking uri\n",
    "- create or set the experiment\n",
    "\n",
    "Setting the tracking uri tells mlflow where to save the results of our experiments. We will first save these locally in a sqlite instance. In a future lab we will set up mlflow to run in GCP.\n",
    "\n",
    "If you've already created an experiment previously that you'd like to use, you can tell mlflow by setting the experiment. You can also use `set_experiment` even if the experiment has not yet been created - mlflow will first check if the experiment exists, and if not, it will create it for you. "
   ]
  },
  {
   "cell_type": "code",
   "execution_count": 96,
   "metadata": {},
   "outputs": [
    {
     "data": {
      "text/plain": [
       "'2.21.0'"
      ]
     },
     "execution_count": 96,
     "metadata": {},
     "output_type": "execute_result"
    }
   ],
   "source": [
    "mlflow.__version__"
   ]
  },
  {
   "attachments": {},
   "cell_type": "markdown",
   "metadata": {},
   "source": [
    "Running the below code will create a sqlite database and an mlruns folder in the current directory."
   ]
  },
  {
   "cell_type": "code",
   "execution_count": 97,
   "metadata": {},
   "outputs": [
    {
     "data": {
      "text/plain": [
       "<Experiment: artifact_location='/Users/jennifertran/Desktop/Spring PT 2 2025/mlops/labs/mlruns/1', creation_time=1742876285791, experiment_id='1', last_update_time=1742876285791, lifecycle_stage='active', name='demo-experiment', tags={}>"
      ]
     },
     "execution_count": 97,
     "metadata": {},
     "output_type": "execute_result"
    }
   ],
   "source": [
    "mlflow.set_tracking_uri("http://127.0.0.1:5000")
    "mlflow.set_experiment('demo-experiment')"
   ]
  },
  {
   "attachments": {},
   "cell_type": "markdown",
   "metadata": {},
   "source": [
    "From here, we can load the wine data from sklearn and take a look at it. Then let's play around with some models, without using mlflow for now, to get a sense of why mlflow might come in handy."
   ]
  },
  {
   "cell_type": "code",
   "execution_count": 98,
   "metadata": {},
   "outputs": [
    {
     "data": {
      "text/html": [
       "<div>\n",
       "<style scoped>\n",
       "    .dataframe tbody tr th:only-of-type {\n",
       "        vertical-align: middle;\n",
       "    }\n",
       "\n",
       "    .dataframe tbody tr th {\n",
       "        vertical-align: top;\n",
       "    }\n",
       "\n",
       "    .dataframe thead th {\n",
       "        text-align: right;\n",
       "    }\n",
       "</style>\n",
       "<table border=\"1\" class=\"dataframe\">\n",
       "  <thead>\n",
       "    <tr style=\"text-align: right;\">\n",
       "      <th></th>\n",
       "      <th>alcohol</th>\n",
       "      <th>malic_acid</th>\n",
       "      <th>ash</th>\n",
       "      <th>alcalinity_of_ash</th>\n",
       "      <th>magnesium</th>\n",
       "      <th>total_phenols</th>\n",
       "      <th>flavanoids</th>\n",
       "      <th>nonflavanoid_phenols</th>\n",
       "      <th>proanthocyanins</th>\n",
       "      <th>color_intensity</th>\n",
       "      <th>hue</th>\n",
       "      <th>od280/od315_of_diluted_wines</th>\n",
       "      <th>proline</th>\n",
       "    </tr>\n",
       "  </thead>\n",
       "  <tbody>\n",
       "    <tr>\n",
       "      <th>0</th>\n",
       "      <td>14.23</td>\n",
       "      <td>1.71</td>\n",
       "      <td>2.43</td>\n",
       "      <td>15.6</td>\n",
       "      <td>127.0</td>\n",
       "      <td>2.80</td>\n",
       "      <td>3.06</td>\n",
       "      <td>0.28</td>\n",
       "      <td>2.29</td>\n",
       "      <td>5.64</td>\n",
       "      <td>1.04</td>\n",
       "      <td>3.92</td>\n",
       "      <td>1065.0</td>\n",
       "    </tr>\n",
       "    <tr>\n",
       "      <th>1</th>\n",
       "      <td>13.20</td>\n",
       "      <td>1.78</td>\n",
       "      <td>2.14</td>\n",
       "      <td>11.2</td>\n",
       "      <td>100.0</td>\n",
       "      <td>2.65</td>\n",
       "      <td>2.76</td>\n",
       "      <td>0.26</td>\n",
       "      <td>1.28</td>\n",
       "      <td>4.38</td>\n",
       "      <td>1.05</td>\n",
       "      <td>3.40</td>\n",
       "      <td>1050.0</td>\n",
       "    </tr>\n",
       "    <tr>\n",
       "      <th>2</th>\n",
       "      <td>13.16</td>\n",
       "      <td>2.36</td>\n",
       "      <td>2.67</td>\n",
       "      <td>18.6</td>\n",
       "      <td>101.0</td>\n",
       "      <td>2.80</td>\n",
       "      <td>3.24</td>\n",
       "      <td>0.30</td>\n",
       "      <td>2.81</td>\n",
       "      <td>5.68</td>\n",
       "      <td>1.03</td>\n",
       "      <td>3.17</td>\n",
       "      <td>1185.0</td>\n",
       "    </tr>\n",
       "  </tbody>\n",
       "</table>\n",
       "</div>"
      ],
      "text/plain": [
       "   alcohol  malic_acid   ash  alcalinity_of_ash  magnesium  total_phenols  \\\n",
       "0    14.23        1.71  2.43               15.6      127.0           2.80   \n",
       "1    13.20        1.78  2.14               11.2      100.0           2.65   \n",
       "2    13.16        2.36  2.67               18.6      101.0           2.80   \n",
       "\n",
       "   flavanoids  nonflavanoid_phenols  proanthocyanins  color_intensity   hue  \\\n",
       "0        3.06                  0.28             2.29             5.64  1.04   \n",
       "1        2.76                  0.26             1.28             4.38  1.05   \n",
       "2        3.24                  0.30             2.81             5.68  1.03   \n",
       "\n",
       "   od280/od315_of_diluted_wines  proline  \n",
       "0                          3.92   1065.0  \n",
       "1                          3.40   1050.0  \n",
       "2                          3.17   1185.0  "
      ]
     },
     "execution_count": 98,
     "metadata": {},
     "output_type": "execute_result"
    }
   ],
   "source": [
    "wine = load_wine()\n",
    "df_wine = pd.DataFrame(data=wine.data, columns=wine.feature_names)\n",
    "df_wine.head(3)"
   ]
  },
  {
   "cell_type": "code",
   "execution_count": 99,
   "metadata": {},
   "outputs": [
    {
     "data": {
      "text/html": [
       "<style>#sk-container-id-11 {\n",
       "  /* Definition of color scheme common for light and dark mode */\n",
       "  --sklearn-color-text: #000;\n",
       "  --sklearn-color-text-muted: #666;\n",
       "  --sklearn-color-line: gray;\n",
       "  /* Definition of color scheme for unfitted estimators */\n",
       "  --sklearn-color-unfitted-level-0: #fff5e6;\n",
       "  --sklearn-color-unfitted-level-1: #f6e4d2;\n",
       "  --sklearn-color-unfitted-level-2: #ffe0b3;\n",
       "  --sklearn-color-unfitted-level-3: chocolate;\n",
       "  /* Definition of color scheme for fitted estimators */\n",
       "  --sklearn-color-fitted-level-0: #f0f8ff;\n",
       "  --sklearn-color-fitted-level-1: #d4ebff;\n",
       "  --sklearn-color-fitted-level-2: #b3dbfd;\n",
       "  --sklearn-color-fitted-level-3: cornflowerblue;\n",
       "\n",
       "  /* Specific color for light theme */\n",
       "  --sklearn-color-text-on-default-background: var(--sg-text-color, var(--theme-code-foreground, var(--jp-content-font-color1, black)));\n",
       "  --sklearn-color-background: var(--sg-background-color, var(--theme-background, var(--jp-layout-color0, white)));\n",
       "  --sklearn-color-border-box: var(--sg-text-color, var(--theme-code-foreground, var(--jp-content-font-color1, black)));\n",
       "  --sklearn-color-icon: #696969;\n",
       "\n",
       "  @media (prefers-color-scheme: dark) {\n",
       "    /* Redefinition of color scheme for dark theme */\n",
       "    --sklearn-color-text-on-default-background: var(--sg-text-color, var(--theme-code-foreground, var(--jp-content-font-color1, white)));\n",
       "    --sklearn-color-background: var(--sg-background-color, var(--theme-background, var(--jp-layout-color0, #111)));\n",
       "    --sklearn-color-border-box: var(--sg-text-color, var(--theme-code-foreground, var(--jp-content-font-color1, white)));\n",
       "    --sklearn-color-icon: #878787;\n",
       "  }\n",
       "}\n",
       "\n",
       "#sk-container-id-11 {\n",
       "  color: var(--sklearn-color-text);\n",
       "}\n",
       "\n",
       "#sk-container-id-11 pre {\n",
       "  padding: 0;\n",
       "}\n",
       "\n",
       "#sk-container-id-11 input.sk-hidden--visually {\n",
       "  border: 0;\n",
       "  clip: rect(1px 1px 1px 1px);\n",
       "  clip: rect(1px, 1px, 1px, 1px);\n",
       "  height: 1px;\n",
       "  margin: -1px;\n",
       "  overflow: hidden;\n",
       "  padding: 0;\n",
       "  position: absolute;\n",
       "  width: 1px;\n",
       "}\n",
       "\n",
       "#sk-container-id-11 div.sk-dashed-wrapped {\n",
       "  border: 1px dashed var(--sklearn-color-line);\n",
       "  margin: 0 0.4em 0.5em 0.4em;\n",
       "  box-sizing: border-box;\n",
       "  padding-bottom: 0.4em;\n",
       "  background-color: var(--sklearn-color-background);\n",
       "}\n",
       "\n",
       "#sk-container-id-11 div.sk-container {\n",
       "  /* jupyter's `normalize.less` sets `[hidden] { display: none; }`\n",
       "     but bootstrap.min.css set `[hidden] { display: none !important; }`\n",
       "     so we also need the `!important` here to be able to override the\n",
       "     default hidden behavior on the sphinx rendered scikit-learn.org.\n",
       "     See: https://github.com/scikit-learn/scikit-learn/issues/21755 */\n",
       "  display: inline-block !important;\n",
       "  position: relative;\n",
       "}\n",
       "\n",
       "#sk-container-id-11 div.sk-text-repr-fallback {\n",
       "  display: none;\n",
       "}\n",
       "\n",
       "div.sk-parallel-item,\n",
       "div.sk-serial,\n",
       "div.sk-item {\n",
       "  /* draw centered vertical line to link estimators */\n",
       "  background-image: linear-gradient(var(--sklearn-color-text-on-default-background), var(--sklearn-color-text-on-default-background));\n",
       "  background-size: 2px 100%;\n",
       "  background-repeat: no-repeat;\n",
       "  background-position: center center;\n",
       "}\n",
       "\n",
       "/* Parallel-specific style estimator block */\n",
       "\n",
       "#sk-container-id-11 div.sk-parallel-item::after {\n",
       "  content: \"\";\n",
       "  width: 100%;\n",
       "  border-bottom: 2px solid var(--sklearn-color-text-on-default-background);\n",
       "  flex-grow: 1;\n",
       "}\n",
       "\n",
       "#sk-container-id-11 div.sk-parallel {\n",
       "  display: flex;\n",
       "  align-items: stretch;\n",
       "  justify-content: center;\n",
       "  background-color: var(--sklearn-color-background);\n",
       "  position: relative;\n",
       "}\n",
       "\n",
       "#sk-container-id-11 div.sk-parallel-item {\n",
       "  display: flex;\n",
       "  flex-direction: column;\n",
       "}\n",
       "\n",
       "#sk-container-id-11 div.sk-parallel-item:first-child::after {\n",
       "  align-self: flex-end;\n",
       "  width: 50%;\n",
       "}\n",
       "\n",
       "#sk-container-id-11 div.sk-parallel-item:last-child::after {\n",
       "  align-self: flex-start;\n",
       "  width: 50%;\n",
       "}\n",
       "\n",
       "#sk-container-id-11 div.sk-parallel-item:only-child::after {\n",
       "  width: 0;\n",
       "}\n",
       "\n",
       "/* Serial-specific style estimator block */\n",
       "\n",
       "#sk-container-id-11 div.sk-serial {\n",
       "  display: flex;\n",
       "  flex-direction: column;\n",
       "  align-items: center;\n",
       "  background-color: var(--sklearn-color-background);\n",
       "  padding-right: 1em;\n",
       "  padding-left: 1em;\n",
       "}\n",
       "\n",
       "\n",
       "/* Toggleable style: style used for estimator/Pipeline/ColumnTransformer box that is\n",
       "clickable and can be expanded/collapsed.\n",
       "- Pipeline and ColumnTransformer use this feature and define the default style\n",
       "- Estimators will overwrite some part of the style using the `sk-estimator` class\n",
       "*/\n",
       "\n",
       "/* Pipeline and ColumnTransformer style (default) */\n",
       "\n",
       "#sk-container-id-11 div.sk-toggleable {\n",
       "  /* Default theme specific background. It is overwritten whether we have a\n",
       "  specific estimator or a Pipeline/ColumnTransformer */\n",
       "  background-color: var(--sklearn-color-background);\n",
       "}\n",
       "\n",
       "/* Toggleable label */\n",
       "#sk-container-id-11 label.sk-toggleable__label {\n",
       "  cursor: pointer;\n",
       "  display: flex;\n",
       "  width: 100%;\n",
       "  margin-bottom: 0;\n",
       "  padding: 0.5em;\n",
       "  box-sizing: border-box;\n",
       "  text-align: center;\n",
       "  align-items: start;\n",
       "  justify-content: space-between;\n",
       "  gap: 0.5em;\n",
       "}\n",
       "\n",
       "#sk-container-id-11 label.sk-toggleable__label .caption {\n",
       "  font-size: 0.6rem;\n",
       "  font-weight: lighter;\n",
       "  color: var(--sklearn-color-text-muted);\n",
       "}\n",
       "\n",
       "#sk-container-id-11 label.sk-toggleable__label-arrow:before {\n",
       "  /* Arrow on the left of the label */\n",
       "  content: \"▸\";\n",
       "  float: left;\n",
       "  margin-right: 0.25em;\n",
       "  color: var(--sklearn-color-icon);\n",
       "}\n",
       "\n",
       "#sk-container-id-11 label.sk-toggleable__label-arrow:hover:before {\n",
       "  color: var(--sklearn-color-text);\n",
       "}\n",
       "\n",
       "/* Toggleable content - dropdown */\n",
       "\n",
       "#sk-container-id-11 div.sk-toggleable__content {\n",
       "  max-height: 0;\n",
       "  max-width: 0;\n",
       "  overflow: hidden;\n",
       "  text-align: left;\n",
       "  /* unfitted */\n",
       "  background-color: var(--sklearn-color-unfitted-level-0);\n",
       "}\n",
       "\n",
       "#sk-container-id-11 div.sk-toggleable__content.fitted {\n",
       "  /* fitted */\n",
       "  background-color: var(--sklearn-color-fitted-level-0);\n",
       "}\n",
       "\n",
       "#sk-container-id-11 div.sk-toggleable__content pre {\n",
       "  margin: 0.2em;\n",
       "  border-radius: 0.25em;\n",
       "  color: var(--sklearn-color-text);\n",
       "  /* unfitted */\n",
       "  background-color: var(--sklearn-color-unfitted-level-0);\n",
       "}\n",
       "\n",
       "#sk-container-id-11 div.sk-toggleable__content.fitted pre {\n",
       "  /* unfitted */\n",
       "  background-color: var(--sklearn-color-fitted-level-0);\n",
       "}\n",
       "\n",
       "#sk-container-id-11 input.sk-toggleable__control:checked~div.sk-toggleable__content {\n",
       "  /* Expand drop-down */\n",
       "  max-height: 200px;\n",
       "  max-width: 100%;\n",
       "  overflow: auto;\n",
       "}\n",
       "\n",
       "#sk-container-id-11 input.sk-toggleable__control:checked~label.sk-toggleable__label-arrow:before {\n",
       "  content: \"▾\";\n",
       "}\n",
       "\n",
       "/* Pipeline/ColumnTransformer-specific style */\n",
       "\n",
       "#sk-container-id-11 div.sk-label input.sk-toggleable__control:checked~label.sk-toggleable__label {\n",
       "  color: var(--sklearn-color-text);\n",
       "  background-color: var(--sklearn-color-unfitted-level-2);\n",
       "}\n",
       "\n",
       "#sk-container-id-11 div.sk-label.fitted input.sk-toggleable__control:checked~label.sk-toggleable__label {\n",
       "  background-color: var(--sklearn-color-fitted-level-2);\n",
       "}\n",
       "\n",
       "/* Estimator-specific style */\n",
       "\n",
       "/* Colorize estimator box */\n",
       "#sk-container-id-11 div.sk-estimator input.sk-toggleable__control:checked~label.sk-toggleable__label {\n",
       "  /* unfitted */\n",
       "  background-color: var(--sklearn-color-unfitted-level-2);\n",
       "}\n",
       "\n",
       "#sk-container-id-11 div.sk-estimator.fitted input.sk-toggleable__control:checked~label.sk-toggleable__label {\n",
       "  /* fitted */\n",
       "  background-color: var(--sklearn-color-fitted-level-2);\n",
       "}\n",
       "\n",
       "#sk-container-id-11 div.sk-label label.sk-toggleable__label,\n",
       "#sk-container-id-11 div.sk-label label {\n",
       "  /* The background is the default theme color */\n",
       "  color: var(--sklearn-color-text-on-default-background);\n",
       "}\n",
       "\n",
       "/* On hover, darken the color of the background */\n",
       "#sk-container-id-11 div.sk-label:hover label.sk-toggleable__label {\n",
       "  color: var(--sklearn-color-text);\n",
       "  background-color: var(--sklearn-color-unfitted-level-2);\n",
       "}\n",
       "\n",
       "/* Label box, darken color on hover, fitted */\n",
       "#sk-container-id-11 div.sk-label.fitted:hover label.sk-toggleable__label.fitted {\n",
       "  color: var(--sklearn-color-text);\n",
       "  background-color: var(--sklearn-color-fitted-level-2);\n",
       "}\n",
       "\n",
       "/* Estimator label */\n",
       "\n",
       "#sk-container-id-11 div.sk-label label {\n",
       "  font-family: monospace;\n",
       "  font-weight: bold;\n",
       "  display: inline-block;\n",
       "  line-height: 1.2em;\n",
       "}\n",
       "\n",
       "#sk-container-id-11 div.sk-label-container {\n",
       "  text-align: center;\n",
       "}\n",
       "\n",
       "/* Estimator-specific */\n",
       "#sk-container-id-11 div.sk-estimator {\n",
       "  font-family: monospace;\n",
       "  border: 1px dotted var(--sklearn-color-border-box);\n",
       "  border-radius: 0.25em;\n",
       "  box-sizing: border-box;\n",
       "  margin-bottom: 0.5em;\n",
       "  /* unfitted */\n",
       "  background-color: var(--sklearn-color-unfitted-level-0);\n",
       "}\n",
       "\n",
       "#sk-container-id-11 div.sk-estimator.fitted {\n",
       "  /* fitted */\n",
       "  background-color: var(--sklearn-color-fitted-level-0);\n",
       "}\n",
       "\n",
       "/* on hover */\n",
       "#sk-container-id-11 div.sk-estimator:hover {\n",
       "  /* unfitted */\n",
       "  background-color: var(--sklearn-color-unfitted-level-2);\n",
       "}\n",
       "\n",
       "#sk-container-id-11 div.sk-estimator.fitted:hover {\n",
       "  /* fitted */\n",
       "  background-color: var(--sklearn-color-fitted-level-2);\n",
       "}\n",
       "\n",
       "/* Specification for estimator info (e.g. \"i\" and \"?\") */\n",
       "\n",
       "/* Common style for \"i\" and \"?\" */\n",
       "\n",
       ".sk-estimator-doc-link,\n",
       "a:link.sk-estimator-doc-link,\n",
       "a:visited.sk-estimator-doc-link {\n",
       "  float: right;\n",
       "  font-size: smaller;\n",
       "  line-height: 1em;\n",
       "  font-family: monospace;\n",
       "  background-color: var(--sklearn-color-background);\n",
       "  border-radius: 1em;\n",
       "  height: 1em;\n",
       "  width: 1em;\n",
       "  text-decoration: none !important;\n",
       "  margin-left: 0.5em;\n",
       "  text-align: center;\n",
       "  /* unfitted */\n",
       "  border: var(--sklearn-color-unfitted-level-1) 1pt solid;\n",
       "  color: var(--sklearn-color-unfitted-level-1);\n",
       "}\n",
       "\n",
       ".sk-estimator-doc-link.fitted,\n",
       "a:link.sk-estimator-doc-link.fitted,\n",
       "a:visited.sk-estimator-doc-link.fitted {\n",
       "  /* fitted */\n",
       "  border: var(--sklearn-color-fitted-level-1) 1pt solid;\n",
       "  color: var(--sklearn-color-fitted-level-1);\n",
       "}\n",
       "\n",
       "/* On hover */\n",
       "div.sk-estimator:hover .sk-estimator-doc-link:hover,\n",
       ".sk-estimator-doc-link:hover,\n",
       "div.sk-label-container:hover .sk-estimator-doc-link:hover,\n",
       ".sk-estimator-doc-link:hover {\n",
       "  /* unfitted */\n",
       "  background-color: var(--sklearn-color-unfitted-level-3);\n",
       "  color: var(--sklearn-color-background);\n",
       "  text-decoration: none;\n",
       "}\n",
       "\n",
       "div.sk-estimator.fitted:hover .sk-estimator-doc-link.fitted:hover,\n",
       ".sk-estimator-doc-link.fitted:hover,\n",
       "div.sk-label-container:hover .sk-estimator-doc-link.fitted:hover,\n",
       ".sk-estimator-doc-link.fitted:hover {\n",
       "  /* fitted */\n",
       "  background-color: var(--sklearn-color-fitted-level-3);\n",
       "  color: var(--sklearn-color-background);\n",
       "  text-decoration: none;\n",
       "}\n",
       "\n",
       "/* Span, style for the box shown on hovering the info icon */\n",
       ".sk-estimator-doc-link span {\n",
       "  display: none;\n",
       "  z-index: 9999;\n",
       "  position: relative;\n",
       "  font-weight: normal;\n",
       "  right: .2ex;\n",
       "  padding: .5ex;\n",
       "  margin: .5ex;\n",
       "  width: min-content;\n",
       "  min-width: 20ex;\n",
       "  max-width: 50ex;\n",
       "  color: var(--sklearn-color-text);\n",
       "  box-shadow: 2pt 2pt 4pt #999;\n",
       "  /* unfitted */\n",
       "  background: var(--sklearn-color-unfitted-level-0);\n",
       "  border: .5pt solid var(--sklearn-color-unfitted-level-3);\n",
       "}\n",
       "\n",
       ".sk-estimator-doc-link.fitted span {\n",
       "  /* fitted */\n",
       "  background: var(--sklearn-color-fitted-level-0);\n",
       "  border: var(--sklearn-color-fitted-level-3);\n",
       "}\n",
       "\n",
       ".sk-estimator-doc-link:hover span {\n",
       "  display: block;\n",
       "}\n",
       "\n",
       "/* \"?\"-specific style due to the `<a>` HTML tag */\n",
       "\n",
       "#sk-container-id-11 a.estimator_doc_link {\n",
       "  float: right;\n",
       "  font-size: 1rem;\n",
       "  line-height: 1em;\n",
       "  font-family: monospace;\n",
       "  background-color: var(--sklearn-color-background);\n",
       "  border-radius: 1rem;\n",
       "  height: 1rem;\n",
       "  width: 1rem;\n",
       "  text-decoration: none;\n",
       "  /* unfitted */\n",
       "  color: var(--sklearn-color-unfitted-level-1);\n",
       "  border: var(--sklearn-color-unfitted-level-1) 1pt solid;\n",
       "}\n",
       "\n",
       "#sk-container-id-11 a.estimator_doc_link.fitted {\n",
       "  /* fitted */\n",
       "  border: var(--sklearn-color-fitted-level-1) 1pt solid;\n",
       "  color: var(--sklearn-color-fitted-level-1);\n",
       "}\n",
       "\n",
       "/* On hover */\n",
       "#sk-container-id-11 a.estimator_doc_link:hover {\n",
       "  /* unfitted */\n",
       "  background-color: var(--sklearn-color-unfitted-level-3);\n",
       "  color: var(--sklearn-color-background);\n",
       "  text-decoration: none;\n",
       "}\n",
       "\n",
       "#sk-container-id-11 a.estimator_doc_link.fitted:hover {\n",
       "  /* fitted */\n",
       "  background-color: var(--sklearn-color-fitted-level-3);\n",
       "}\n",
       "</style><div id=\"sk-container-id-11\" class=\"sk-top-container\"><div class=\"sk-text-repr-fallback\"><pre>DecisionTreeClassifier(max_depth=4)</pre><b>In a Jupyter environment, please rerun this cell to show the HTML representation or trust the notebook. <br />On GitHub, the HTML representation is unable to render, please try loading this page with nbviewer.org.</b></div><div class=\"sk-container\" hidden><div class=\"sk-item\"><div class=\"sk-estimator fitted sk-toggleable\"><input class=\"sk-toggleable__control sk-hidden--visually\" id=\"sk-estimator-id-11\" type=\"checkbox\" checked><label for=\"sk-estimator-id-11\" class=\"sk-toggleable__label fitted sk-toggleable__label-arrow\"><div><div>DecisionTreeClassifier</div></div><div><a class=\"sk-estimator-doc-link fitted\" rel=\"noreferrer\" target=\"_blank\" href=\"https://scikit-learn.org/1.6/modules/generated/sklearn.tree.DecisionTreeClassifier.html\">?<span>Documentation for DecisionTreeClassifier</span></a><span class=\"sk-estimator-doc-link fitted\">i<span>Fitted</span></span></div></label><div class=\"sk-toggleable__content fitted\"><pre>DecisionTreeClassifier(max_depth=4)</pre></div> </div></div></div></div>"
      ],
      "text/plain": [
       "DecisionTreeClassifier(max_depth=4)"
      ]
     },
     "execution_count": 99,
     "metadata": {},
     "output_type": "execute_result"
    }
   ],
   "source": [
    "y = wine.target\n",
    "X = df_wine\n",
    "dt = DecisionTreeClassifier(max_depth=4)\n",
    "dt.fit(X, y)"
   ]
  },
  {
   "cell_type": "code",
   "execution_count": 100,
   "metadata": {},
   "outputs": [
    {
     "data": {
      "text/plain": [
       "0.9887640449438202"
      ]
     },
     "execution_count": 100,
     "metadata": {},
     "output_type": "execute_result"
    }
   ],
   "source": [
    "accuracy_score(y, dt.predict(df_wine))"
   ]
  },
  {
   "attachments": {},
   "cell_type": "markdown",
   "metadata": {},
   "source": [
    "## Train a Model Using MLFLow\n",
    "\n",
    "In this section, let's train a simple decision tree model, where we will now adjust the maximum depth (`max_depth`) of the tree, and save the results of each run of the experiment using mlflow. To do so, we need to tell mlflow to start recording. We do this with `start_run`. \n",
    "\n",
    "The things we might want to record in this simple case are:\n",
    "- the value of `max_depth`\n",
    "- the corresponding accuracy of the model\n",
    "\n",
    "We can also tag each run to make it easier to identify them later.\n",
    "\n",
    "After running the below code, be sure to check the mlflow UI by running the following in the terminal from the same directory as where you saved this notebook:\n",
    "\n",
    "`mlflow ui` note that just running this you will not see any of your experiments. You must specify the uri (the place where all of your results are being stored)\n",
    "\n",
    "`mlflow ui --backend-store-uri sqlite:///mlflow.db`"
   ]
  },
  {
   "cell_type": "code",
   "execution_count": 101,
   "metadata": {},
   "outputs": [],
   "source": [
    "mlflow.end_run()\n",
    "with mlflow.start_run():\n",
    "    # log parameters and log metrics\n",
    "    # parameters: hyperparameters\n",
    "    # metrics: model performance metrics\n",
    "\n",
    "    mlflow.set_tags({\"Model\":\"decision-tree\", \"Train Data\": \"all-data\"})\n",
    "\n",
    "    tree_depth = 5\n",
    "    dt = DecisionTreeClassifier(max_depth=tree_depth)\n",
    "    dt.fit(X, y)\n",
    "    acc = accuracy_score(y, dt.predict(df_wine))\n",
    "\n",
    "    mlflow.log_param(\"max_depth\", tree_depth)\n",
    "    mlflow.log_metric(\"accuracy\", acc)\n",
    "\n",
    "mlflow.end_run()"
   ]
  },
  {
   "attachments": {},
   "cell_type": "markdown",
   "metadata": {},
   "source": [
    "Let's do it again, but this time we'll use a random forest, which has some other hyperparameters we can tune, which makes keeping track of things a little more complex without a tool like mlflow."
   ]
  },
  {
   "cell_type": "code",
   "execution_count": 102,
   "metadata": {},
   "outputs": [],
   "source": [
    "from sklearn.ensemble import RandomForestClassifier\n",
    "\n",
    "with mlflow.start_run():\n",
    "    mlflow.set_tags({\"Model\":\"random-forest\", \"Train Data\": \"all-data\"})\n",
    "\n",
    "    ntree = 1000\n",
    "    mtry = 4\n",
    "\n",
    "    mlflow.log_params({'n_estimators':ntree, 'max_features':mtry})\n",
    "\n",
    "    rf = RandomForestClassifier(n_estimators = ntree, max_features = mtry, oob_score = True)\n",
    "    rf.fit(X,y)\n",
    "    acc = rf.oob_score_\n",
    "    #acc = accuracy_score(y, rf.predict(X))\n",
    "    mlflow.log_metric('accuracy', acc)\n",
    "\n",
    "mlflow.end_run()"
   ]
  },
  {
   "attachments": {},
   "cell_type": "markdown",
   "metadata": {},
   "source": [
    "Typically, in a real-world scenario, you wouldn't change your parameter values manually and re-run your code, you would either use a loop to loop through different parameter values, or you'd use a built-in method for doing cross-validation, of which there are a few. First, let's use a simple loop to run the experiment multiple times, and save the results of each run."
   ]
  },
  {
   "cell_type": "code",
   "execution_count": 103,
   "metadata": {},
   "outputs": [],
   "source": [
    "ntrees = [20,40,60,80,100]\n",
    "mtrys = [3,4,5]\n",
    "for i in ntrees:\n",
    "    for j in mtrys:\n",
    "        with mlflow.start_run():\n",
    "            mlflow.set_tags({\"Model\":\"random-forest\", \"Train Data\": \"all-data\"})\n",
    "\n",
    "            mlflow.log_params({'n_estimators':i, 'max_features':j})\n",
    "\n",
    "            rf = RandomForestClassifier(n_estimators = i, max_features = j, oob_score = True)\n",
    "            rf.fit(X,y)\n",
    "            acc = rf.oob_score_\n",
    "            #acc = accuracy_score(y, rf.predict(X))\n",
    "            mlflow.log_metric('accuracy', acc)\n",
    "        mlflow.end_run()"
   ]
  },
  {
   "attachments": {},
   "cell_type": "markdown",
   "metadata": {},
   "source": [
    "## Training a Model with mlflow and hyperopt\n",
    "\n",
    "One way of tuning your model is to use the `hyperopt` library. `hyperopt` is a library that does hyperparameter tuning, and does so in a way that makes it easy for mlflow to keep track of the results. \n",
    "\n",
    "First, install the libraries you don't have, and then load them below. We do not use `hyperopt` much in the class, so if you don't want to add it to your requirements.txt file, you don't have to.\n",
    "\n",
    "For this exercise, we'll split the data into training and validation, and then we'll train decision trees and random forests and use `hyperopt` to do the hyperparameter tuning and find the best model for us."
   ]
  },
  {
   "cell_type": "code",
   "execution_count": 104,
   "metadata": {},
   "outputs": [
    {
     "name": "stdout",
     "output_type": "stream",
     "text": [
      "Requirement already satisfied: hyperopt in /Users/jennifertran/Desktop/Spring PT 2 2025/mlops/mlops/lib/python3.13/site-packages (0.2.7)\n",
      "Requirement already satisfied: numpy in /Users/jennifertran/Desktop/Spring PT 2 2025/mlops/mlops/lib/python3.13/site-packages (from hyperopt) (2.2.4)\n",
      "Requirement already satisfied: scipy in /Users/jennifertran/Desktop/Spring PT 2 2025/mlops/mlops/lib/python3.13/site-packages (from hyperopt) (1.15.2)\n",
      "Requirement already satisfied: six in /Users/jennifertran/Desktop/Spring PT 2 2025/mlops/mlops/lib/python3.13/site-packages (from hyperopt) (1.17.0)\n",
      "Requirement already satisfied: networkx>=2.2 in /Users/jennifertran/Desktop/Spring PT 2 2025/mlops/mlops/lib/python3.13/site-packages (from hyperopt) (3.4.2)\n",
      "Requirement already satisfied: future in /Users/jennifertran/Desktop/Spring PT 2 2025/mlops/mlops/lib/python3.13/site-packages (from hyperopt) (1.0.0)\n",
      "Requirement already satisfied: tqdm in /Users/jennifertran/Desktop/Spring PT 2 2025/mlops/mlops/lib/python3.13/site-packages (from hyperopt) (4.67.1)\n",
      "Requirement already satisfied: cloudpickle in /Users/jennifertran/Desktop/Spring PT 2 2025/mlops/mlops/lib/python3.13/site-packages (from hyperopt) (3.1.1)\n",
      "Requirement already satisfied: py4j in /Users/jennifertran/Desktop/Spring PT 2 2025/mlops/mlops/lib/python3.13/site-packages (from hyperopt) (0.10.9.9)\n"
     ]
    }
   ],
   "source": [
    "!pip install hyperopt"
   ]
  },
  {
   "cell_type": "code",
   "execution_count": 105,
   "metadata": {},
   "outputs": [],
   "source": [
    "from hyperopt import fmin, tpe, hp, STATUS_OK, Trials\n",
    "from sklearn.model_selection import cross_val_score, train_test_split\n",
    "\n",
    "X_train, X_test, y_train, y_test = train_test_split(X, y, test_size=0.2, shuffle=True)"
   ]
  },
  {
   "attachments": {},
   "cell_type": "markdown",
   "metadata": {},
   "source": [
    "From the above we will use `cross_val_score` for our metric, `fmin` is used by `hyperopt` to do the tuning, `tpe` (Tree of Parzen Estimators) is the algorithm used to search the hyperparameter space,  `hp` has methods we need to use for defining our search space, `STATUS_OK` is a status message that each run completed, and `Trials` keeps track of each run."
   ]
  },
  {
   "cell_type": "code",
   "execution_count": 106,
   "metadata": {},
   "outputs": [],
   "source": [
    "def objective(params):\n",
    "    with mlflow.start_run():\n",
    "        classifier_type = params['type']\n",
    "        del params['type']\n",
    "        if classifier_type == 'dt':\n",
    "            clf = DecisionTreeClassifier(**params)\n",
    "        elif classifier_type == 'rf':\n",
    "            clf = RandomForestClassifier(**params)        \n",
    "        else:\n",
    "            return 0\n",
    "        acc = cross_val_score(clf, X, y).mean()\n",
    "\n",
    "        mlflow.set_tag(\"Model\", classifier_type)\n",
    "        mlflow.log_params(params)\n",
    "        mlflow.log_metric(\"accuracy\", acc)\n",
    "        mlflow.end_run()\n",
    "        return {'loss': -acc, 'status': STATUS_OK}\n",
    "\n",
    "search_space = hp.choice('classifier_type', [\n",
    "    {\n",
    "        'type': 'dt',\n",
    "        'criterion': hp.choice('dtree_criterion', ['gini', 'entropy']),\n",
    "        'max_depth': hp.choice('dtree_max_depth', [None, hp.randint('dtree_max_depth_int', 1,10)]),\n",
    "        'min_samples_split': hp.randint('dtree_min_samples_split', 2,10)\n",
    "    },\n",
    "    {\n",
    "        'type': 'rf',\n",
    "        'n_estimators': hp.randint('rf_n_estimators', 20, 500),\n",
    "        'max_features': hp.randint('rf_max_features', 2,9),\n",
    "        'criterion': hp.choice('criterion', ['gini', 'entropy'])\n",
    "    },\n",
    "])\n",
    "\n",
    "algo = tpe.suggest\n",
    "trials = Trials()"
   ]
  },
  {
   "cell_type": "code",
   "execution_count": 107,
   "metadata": {},
   "outputs": [
    {
     "name": "stdout",
     "output_type": "stream",
     "text": [
      "100%|██████████| 32/32 [00:16<00:00,  1.98trial/s, best loss: -0.9888888888888889]\n"
     ]
    }
   ],
   "source": [
    "best_result = fmin(\n",
    "        fn=objective, \n",
    "        space=search_space,\n",
    "        algo=algo,\n",
    "        max_evals=32,\n",
    "        trials=trials)"
   ]
  },
  {
   "cell_type": "code",
   "execution_count": 108,
   "metadata": {},
   "outputs": [
    {
     "data": {
      "text/plain": [
       "{'classifier_type': np.int64(1),\n",
       " 'criterion': np.int64(1),\n",
       " 'rf_max_features': np.int64(2),\n",
       " 'rf_n_estimators': np.int64(280)}"
      ]
     },
     "execution_count": 108,
     "metadata": {},
     "output_type": "execute_result"
    }
   ],
   "source": [
    "best_result"
   ]
  },
  {
   "attachments": {},
   "cell_type": "markdown",
   "metadata": {},
   "source": [
    "### Using Autologging\n",
    "\n",
    "Rather than manually logging parameters and metrics, mlflow has an autolog feature, which is compatible with a subset of python libraries, such as sklearn. Autologging makes it easy to log all of the important stuff, without having to manually write lines of code to log the parameters. However, sometimes you will want to have finer control over what gets logged, and should instead skip autologging."
   ]
  },
  {
   "cell_type": "code",
   "execution_count": 109,
   "metadata": {},
   "outputs": [],
   "source": [
    "with mlflow.start_run():\n",
    "    mlflow.sklearn.autolog()\n",
    "    tree_depth = 5\n",
    "    dt = DecisionTreeClassifier(max_depth=tree_depth)\n",
    "    dt.fit(X_train, y_train)\n",
    "    mlflow.sklearn.autolog(disable=True)\n",
    "mlflow.end_run()"
   ]
  },
  {
   "attachments": {},
   "cell_type": "markdown",
   "metadata": {},
   "source": [
    "# Artifact Tracking and Model Registry (Local)\n",
    "\n",
    "In this section we will save some artifacts from our model as we go through the model development process. There are a few things that might be worth saving, such as datasets, plots, and the final model itself that might go into production later.\n",
    "\n",
    "## Data\n",
    "\n",
    "First, let's see how we can store our important datasets, in a compressed format, for use for later, for example, in case we get a new request about our model and need to run some analyses (such as \"what is the distribution of this feature, but only for this specific subset of data?\" or \"how did the model do on these particular observations from your validation set?\")."
   ]
  },
  {
   "cell_type": "code",
   "execution_count": 110,
   "metadata": {},
   "outputs": [],
   "source": [
    "import os \n",
    "\n",
    "os.makedirs('save_data', exist_ok = True)\n",
    "\n",
    "X_train.to_parquet('save_data/x_train.parquet')\n",
    "\n",
    "mlflow.log_artifact('save_data/x_train.parquet')"
   ]
  },
  {
   "cell_type": "code",
   "execution_count": 111,
   "metadata": {},
   "outputs": [],
   "source": [
    "X_test.to_parquet('save_data/x_test.parquet')\n",
    "\n",
    "mlflow.log_artifacts('save_data/')"
   ]
  },
  {
   "attachments": {
    "mlflow1.png": {
     "image/png": "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"
    }
   },
   "cell_type": "markdown",
   "metadata": {},
   "source": [
    "You can now go to the mlflow UI, click on the latest run, and select the Artifacts tab. You should see something similar to this:\n",
    "![mlflow1.png](attachment:mlflow1.png)"
   ]
  },
  {
   "attachments": {},
   "cell_type": "markdown",
   "metadata": {},
   "source": [
    "## Images\n",
    "\n",
    "As part of the model dev process you may end up creating visualizations that can be useful for analysis, or for reporting. You can use mlflow to log the important ones and ignore the rest. After creating the below figure, save into a folder called images, and then you can log whatever is in the `images` folder as an artifact."
   ]
  },
  {
   "cell_type": "code",
   "execution_count": 87,
   "metadata": {},
   "outputs": [
    {
     "data": {
      "text/plain": [
       "array([[<Axes: ylabel='Density'>, <Axes: ylabel='Density'>,\n",
       "        <Axes: ylabel='Density'>, <Axes: ylabel='Density'>],\n",
       "       [<Axes: ylabel='Density'>, <Axes: ylabel='Density'>,\n",
       "        <Axes: ylabel='Density'>, <Axes: ylabel='Density'>],\n",
       "       [<Axes: ylabel='Density'>, <Axes: ylabel='Density'>,\n",
       "        <Axes: ylabel='Density'>, <Axes: ylabel='Density'>],\n",
       "       [<Axes: ylabel='Density'>, <Axes: ylabel='Density'>,\n",
       "        <Axes: ylabel='Density'>, <Axes: ylabel='Density'>]], dtype=object)"
      ]
     },
     "execution_count": 87,
     "metadata": {},
     "output_type": "execute_result"
    },
    {
     "data": {
      "image/png": "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",
      "text/plain": [
       "<Figure size 2000x1000 with 16 Axes>"
      ]
     },
     "metadata": {},
     "output_type": "display_data"
    }
   ],
   "source": [
    "%matplotlib inline\n",
    "os.makedirs('images', exist_ok = True)\n",
    "X_train.plot.density(subplots = True, figsize = (20,10), layout = (4,4), sharey = False, sharex = False)"
   ]
  },
  {
   "cell_type": "code",
   "execution_count": 88,
   "metadata": {},
   "outputs": [],
   "source": [
    "mlflow.log_artifacts('images')\n",
    "mlflow.end_run()"
   ]
  },
  {
   "attachments": {},
   "cell_type": "markdown",
   "metadata": {},
   "source": [
    "Notice how all of the artifacts were saved in the same run of the experiment. We could have added an `mlflow.end_run()` in between our `log_artifacts` lines to separate runs if we wanted to."
   ]
  },
  {
   "attachments": {},
   "cell_type": "markdown",
   "metadata": {},
   "source": [
    "## Model Management and Model Registry\n",
    "\n",
    "As you are developing your models you may want to save certain versions of the model, or maybe even all of them, so that you don't have to go back and retrain them later. We can do this in mlflow by logging the models, not as artifacts, but as models, using `log_model`. \n",
    "\n",
    "In this section we'll log a couple of models to see how mlflow handles model management. Above, we used `hyperopt` to train a bunch of models at once. Let's do this again, and log some of the models that we train.\n",
    "\n",
    "### Logging as an Artifact\n",
    "\n",
    "First we can try logging a model as an artifact. To do this, we must first save the model itself, which we can do by using the `pickle` library. We then log the model as an artifact like we did with data and images. "
   ]
  },
  {
   "cell_type": "code",
   "execution_count": 89,
   "metadata": {},
   "outputs": [],
   "source": [
    "import pickle\n",
    "\n",
    "os.makedirs('../models', exist_ok = True)\n",
    "\n",
    "dt = DecisionTreeClassifier()\n",
    "dt.fit(X_train, y_train)\n",
    "\n",
    "with open('../models/model.pkl','wb') as f:\n",
    "    pickle.dump(dt,f)\n",
    "\n",
    "# First we'll log the model as an artifact\n",
    "mlflow.log_artifact('../models/model.pkl', artifact_path='my_models')"
   ]
  },
  {
   "attachments": {},
   "cell_type": "markdown",
   "metadata": {},
   "source": [
    "### Logging as a Model\n",
    "\n",
    "Logging the model as an artifact only logs the pickle file (the serialized version of the model). It's not really very useful, especially since models contain so much metadata that might be critical to know for deploying the model later. mlflow has a built-in way of logging models specifically, so let's see how to use this, and how it's different from logging models as an artifact."
   ]
  },
  {
   "cell_type": "code",
   "execution_count": 112,
   "metadata": {},
   "outputs": [
    {
     "name": "stderr",
     "output_type": "stream",
     "text": [
      "\u001b[31m2025/03/24 22:09:54 WARNING mlflow.models.model: Model logged without a signature and input example. Please set `input_example` parameter when logging the model to auto infer the model signature.\u001b[0m\n"
     ]
    }
   ],
   "source": [
    "# Let's do it again, but this time we will log the model using log_model\n",
    "mlflow.sklearn.log_model(dt, artifact_path = 'better_models')\n",
    "mlflow.end_run()"
   ]
  },
  {
   "attachments": {
    "mlflow2.png": {
     "image/png": "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"
    }
   },
   "cell_type": "markdown",
   "metadata": {},
   "source": [
    "Ok, so if you go to the mlflow UI at this point you can see the difference in `log_artifact`, which simply logs the pickle file, and `log_model`, which also gives you information about the environment, required packages, and model flavor.\n",
    "\n",
    "![mlflow2.png](attachment:mlflow2.png)\n",
    "\n",
    "Let's do this one more time, but this time let's use `hyperopt` and log all of the trained models separately. Let's do this in a new experiment called 'demo-experiment2'. "
   ]
  },
  {
   "cell_type": "code",
   "execution_count": 113,
   "metadata": {},
   "outputs": [
    {
     "name": "stdout",
     "output_type": "stream",
     "text": [
      "  0%|          | 0/32 [00:00<?, ?trial/s, best loss=?]"
     ]
    },
    {
     "name": "stderr",
     "output_type": "stream",
     "text": [
      "\u001b[31m2025/03/24 22:11:16 WARNING mlflow.models.model: Model logged without a signature and input example. Please set `input_example` parameter when logging the model to auto infer the model signature.\u001b[0m\n",
      "\n"
     ]
    },
    {
     "name": "stdout",
     "output_type": "stream",
     "text": [
      "  3%|▎         | 1/32 [00:03<01:49,  3.53s/trial, best loss: -0.9720634920634922]"
     ]
    },
    {
     "name": "stderr",
     "output_type": "stream",
     "text": [
      "\u001b[31m2025/03/24 22:11:17 WARNING mlflow.models.model: Model logged without a signature and input example. Please set `input_example` parameter when logging the model to auto infer the model signature.\u001b[0m\n",
      "\n"
     ]
    },
    {
     "name": "stdout",
     "output_type": "stream",
     "text": [
      "  6%|▋         | 2/32 [00:05<01:15,  2.50s/trial, best loss: -0.9720634920634922]"
     ]
    },
    {
     "name": "stderr",
     "output_type": "stream",
     "text": [
      "\u001b[31m2025/03/24 22:11:19 WARNING mlflow.models.model: Model logged without a signature and input example. Please set `input_example` parameter when logging the model to auto infer the model signature.\u001b[0m\n",
      "\n"
     ]
    },
    {
     "name": "stdout",
     "output_type": "stream",
     "text": [
      "  9%|▉         | 3/32 [00:07<01:03,  2.18s/trial, best loss: -0.9720634920634922]"
     ]
    },
    {
     "name": "stderr",
     "output_type": "stream",
     "text": [
      "\u001b[31m2025/03/24 22:11:22 WARNING mlflow.models.model: Model logged without a signature and input example. Please set `input_example` parameter when logging the model to auto infer the model signature.\u001b[0m\n",
      "\n"
     ]
    },
    {
     "name": "stdout",
     "output_type": "stream",
     "text": [
      " 12%|█▎        | 4/32 [00:09<01:04,  2.32s/trial, best loss: -0.9722222222222221]"
     ]
    },
    {
     "name": "stderr",
     "output_type": "stream",
     "text": [
      "\u001b[31m2025/03/24 22:11:25 WARNING mlflow.models.model: Model logged without a signature and input example. Please set `input_example` parameter when logging the model to auto infer the model signature.\u001b[0m\n",
      "\n"
     ]
    },
    {
     "name": "stdout",
     "output_type": "stream",
     "text": [
      " 16%|█▌        | 5/32 [00:12<01:09,  2.56s/trial, best loss: -0.9722222222222221]"
     ]
    },
    {
     "name": "stderr",
     "output_type": "stream",
     "text": [
      "\u001b[31m2025/03/24 22:11:27 WARNING mlflow.models.model: Model logged without a signature and input example. Please set `input_example` parameter when logging the model to auto infer the model signature.\u001b[0m\n",
      "\n"
     ]
    },
    {
     "name": "stdout",
     "output_type": "stream",
     "text": [
      " 19%|█▉        | 6/32 [00:14<01:03,  2.46s/trial, best loss: -0.9722222222222221]"
     ]
    },
    {
     "name": "stderr",
     "output_type": "stream",
     "text": [
      "\u001b[31m2025/03/24 22:11:29 WARNING mlflow.models.model: Model logged without a signature and input example. Please set `input_example` parameter when logging the model to auto infer the model signature.\u001b[0m\n",
      "\n"
     ]
    },
    {
     "name": "stdout",
     "output_type": "stream",
     "text": [
      " 22%|██▏       | 7/32 [00:16<00:55,  2.22s/trial, best loss: -0.9722222222222221]"
     ]
    },
    {
     "name": "stderr",
     "output_type": "stream",
     "text": [
      "\u001b[31m2025/03/24 22:11:30 WARNING mlflow.models.model: Model logged without a signature and input example. Please set `input_example` parameter when logging the model to auto infer the model signature.\u001b[0m\n",
      "\n"
     ]
    },
    {
     "name": "stdout",
     "output_type": "stream",
     "text": [
      " 25%|██▌       | 8/32 [00:18<00:49,  2.06s/trial, best loss: -0.9722222222222221]"
     ]
    },
    {
     "name": "stderr",
     "output_type": "stream",
     "text": [
      "\u001b[31m2025/03/24 22:11:32 WARNING mlflow.models.model: Model logged without a signature and input example. Please set `input_example` parameter when logging the model to auto infer the model signature.\u001b[0m\n",
      "\n"
     ]
    },
    {
     "name": "stdout",
     "output_type": "stream",
     "text": [
      " 28%|██▊       | 9/32 [00:20<00:46,  2.01s/trial, best loss: -0.9722222222222221]"
     ]
    },
    {
     "name": "stderr",
     "output_type": "stream",
     "text": [
      "\u001b[31m2025/03/24 22:11:34 WARNING mlflow.models.model: Model logged without a signature and input example. Please set `input_example` parameter when logging the model to auto infer the model signature.\u001b[0m\n",
      "\n"
     ]
    },
    {
     "name": "stdout",
     "output_type": "stream",
     "text": [
      " 31%|███▏      | 10/32 [00:22<00:43,  1.97s/trial, best loss: -0.9722222222222221]"
     ]
    },
    {
     "name": "stderr",
     "output_type": "stream",
     "text": [
      "\u001b[31m2025/03/24 22:11:37 WARNING mlflow.models.model: Model logged without a signature and input example. Please set `input_example` parameter when logging the model to auto infer the model signature.\u001b[0m\n",
      "\n"
     ]
    },
    {
     "name": "stdout",
     "output_type": "stream",
     "text": [
      " 34%|███▍      | 11/32 [00:25<00:47,  2.25s/trial, best loss: -0.9722222222222221]"
     ]
    },
    {
     "name": "stderr",
     "output_type": "stream",
     "text": [
      "\u001b[31m2025/03/24 22:11:39 WARNING mlflow.models.model: Model logged without a signature and input example. Please set `input_example` parameter when logging the model to auto infer the model signature.\u001b[0m\n",
      "\n"
     ]
    },
    {
     "name": "stdout",
     "output_type": "stream",
     "text": [
      " 38%|███▊      | 12/32 [00:27<00:45,  2.26s/trial, best loss: -0.9722222222222221]"
     ]
    },
    {
     "name": "stderr",
     "output_type": "stream",
     "text": [
      "\u001b[31m2025/03/24 22:11:42 WARNING mlflow.models.model: Model logged without a signature and input example. Please set `input_example` parameter when logging the model to auto infer the model signature.\u001b[0m\n",
      "\n"
     ]
    },
    {
     "name": "stdout",
     "output_type": "stream",
     "text": [
      " 41%|████      | 13/32 [00:30<00:47,  2.52s/trial, best loss: -0.9722222222222221]"
     ]
    },
    {
     "name": "stderr",
     "output_type": "stream",
     "text": [
      "\u001b[31m2025/03/24 22:11:46 WARNING mlflow.models.model: Model logged without a signature and input example. Please set `input_example` parameter when logging the model to auto infer the model signature.\u001b[0m\n",
      "\n"
     ]
    },
    {
     "name": "stdout",
     "output_type": "stream",
     "text": [
      " 44%|████▍     | 14/32 [00:34<00:51,  2.88s/trial, best loss: -0.9722222222222221]"
     ]
    },
    {
     "name": "stderr",
     "output_type": "stream",
     "text": [
      "\u001b[31m2025/03/24 22:11:50 WARNING mlflow.models.model: Model logged without a signature and input example. Please set `input_example` parameter when logging the model to auto infer the model signature.\u001b[0m\n",
      "\n"
     ]
    },
    {
     "name": "stdout",
     "output_type": "stream",
     "text": [
      " 47%|████▋     | 15/32 [00:37<00:52,  3.10s/trial, best loss: -0.9722222222222221]"
     ]
    },
    {
     "name": "stderr",
     "output_type": "stream",
     "text": [
      "\u001b[31m2025/03/24 22:11:51 WARNING mlflow.models.model: Model logged without a signature and input example. Please set `input_example` parameter when logging the model to auto infer the model signature.\u001b[0m\n",
      "\n"
     ]
    },
    {
     "name": "stdout",
     "output_type": "stream",
     "text": [
      " 50%|█████     | 16/32 [00:39<00:42,  2.69s/trial, best loss: -0.9722222222222221]"
     ]
    },
    {
     "name": "stderr",
     "output_type": "stream",
     "text": [
      "\u001b[31m2025/03/24 22:11:53 WARNING mlflow.models.model: Model logged without a signature and input example. Please set `input_example` parameter when logging the model to auto infer the model signature.\u001b[0m\n",
      "\n"
     ]
    },
    {
     "name": "stdout",
     "output_type": "stream",
     "text": [
      " 53%|█████▎    | 17/32 [00:41<00:36,  2.45s/trial, best loss: -0.9722222222222221]"
     ]
    },
    {
     "name": "stderr",
     "output_type": "stream",
     "text": [
      "\u001b[31m2025/03/24 22:11:55 WARNING mlflow.models.model: Model logged without a signature and input example. Please set `input_example` parameter when logging the model to auto infer the model signature.\u001b[0m\n",
      "\n"
     ]
    },
    {
     "name": "stdout",
     "output_type": "stream",
     "text": [
      " 56%|█████▋    | 18/32 [00:43<00:31,  2.27s/trial, best loss: -0.9722222222222221]"
     ]
    },
    {
     "name": "stderr",
     "output_type": "stream",
     "text": [
      "\u001b[31m2025/03/24 22:11:58 WARNING mlflow.models.model: Model logged without a signature and input example. Please set `input_example` parameter when logging the model to auto infer the model signature.\u001b[0m\n",
      "\n"
     ]
    },
    {
     "name": "stdout",
     "output_type": "stream",
     "text": [
      " 59%|█████▉    | 19/32 [00:46<00:32,  2.51s/trial, best loss: -0.9722222222222221]"
     ]
    },
    {
     "name": "stderr",
     "output_type": "stream",
     "text": [
      "\u001b[31m2025/03/24 22:12:00 WARNING mlflow.models.model: Model logged without a signature and input example. Please set `input_example` parameter when logging the model to auto infer the model signature.\u001b[0m\n",
      "\n"
     ]
    },
    {
     "name": "stdout",
     "output_type": "stream",
     "text": [
      " 62%|██████▎   | 20/32 [00:48<00:27,  2.28s/trial, best loss: -0.9722222222222221]"
     ]
    },
    {
     "name": "stderr",
     "output_type": "stream",
     "text": [
      "\u001b[31m2025/03/24 22:12:02 WARNING mlflow.models.model: Model logged without a signature and input example. Please set `input_example` parameter when logging the model to auto infer the model signature.\u001b[0m\n",
      "\n"
     ]
    },
    {
     "name": "stdout",
     "output_type": "stream",
     "text": [
      " 66%|██████▌   | 21/32 [00:50<00:24,  2.21s/trial, best loss: -0.9722222222222221]"
     ]
    },
    {
     "name": "stderr",
     "output_type": "stream",
     "text": [
      "\u001b[31m2025/03/24 22:12:05 WARNING mlflow.models.model: Model logged without a signature and input example. Please set `input_example` parameter when logging the model to auto infer the model signature.\u001b[0m\n",
      "\n"
     ]
    },
    {
     "name": "stdout",
     "output_type": "stream",
     "text": [
      " 69%|██████▉   | 22/32 [00:52<00:23,  2.30s/trial, best loss: -0.9833333333333332]"
     ]
    },
    {
     "name": "stderr",
     "output_type": "stream",
     "text": [
      "\u001b[31m2025/03/24 22:12:07 WARNING mlflow.models.model: Model logged without a signature and input example. Please set `input_example` parameter when logging the model to auto infer the model signature.\u001b[0m\n",
      "\n"
     ]
    },
    {
     "name": "stdout",
     "output_type": "stream",
     "text": [
      " 72%|███████▏  | 23/32 [00:55<00:21,  2.44s/trial, best loss: -0.9833333333333332]"
     ]
    },
    {
     "name": "stderr",
     "output_type": "stream",
     "text": [
      "\u001b[31m2025/03/24 22:12:10 WARNING mlflow.models.model: Model logged without a signature and input example. Please set `input_example` parameter when logging the model to auto infer the model signature.\u001b[0m\n",
      "\n"
     ]
    },
    {
     "name": "stdout",
     "output_type": "stream",
     "text": [
      " 75%|███████▌  | 24/32 [00:58<00:20,  2.52s/trial, best loss: -0.9833333333333332]"
     ]
    },
    {
     "name": "stderr",
     "output_type": "stream",
     "text": [
      "\u001b[31m2025/03/24 22:12:13 WARNING mlflow.models.model: Model logged without a signature and input example. Please set `input_example` parameter when logging the model to auto infer the model signature.\u001b[0m\n",
      "\n"
     ]
    },
    {
     "name": "stdout",
     "output_type": "stream",
     "text": [
      " 78%|███████▊  | 25/32 [01:00<00:17,  2.52s/trial, best loss: -0.9833333333333332]"
     ]
    },
    {
     "name": "stderr",
     "output_type": "stream",
     "text": [
      "\u001b[31m2025/03/24 22:12:15 WARNING mlflow.models.model: Model logged without a signature and input example. Please set `input_example` parameter when logging the model to auto infer the model signature.\u001b[0m\n",
      "\n"
     ]
    },
    {
     "name": "stdout",
     "output_type": "stream",
     "text": [
      " 81%|████████▏ | 26/32 [01:02<00:14,  2.36s/trial, best loss: -0.9833333333333332]"
     ]
    },
    {
     "name": "stderr",
     "output_type": "stream",
     "text": [
      "\u001b[31m2025/03/24 22:12:17 WARNING mlflow.models.model: Model logged without a signature and input example. Please set `input_example` parameter when logging the model to auto infer the model signature.\u001b[0m\n",
      "\n"
     ]
    },
    {
     "name": "stdout",
     "output_type": "stream",
     "text": [
      " 84%|████████▍ | 27/32 [01:04<00:11,  2.37s/trial, best loss: -0.9833333333333332]"
     ]
    },
    {
     "name": "stderr",
     "output_type": "stream",
     "text": [
      "\u001b[31m2025/03/24 22:12:20 WARNING mlflow.models.model: Model logged without a signature and input example. Please set `input_example` parameter when logging the model to auto infer the model signature.\u001b[0m\n",
      "\n"
     ]
    },
    {
     "name": "stdout",
     "output_type": "stream",
     "text": [
      " 88%|████████▊ | 28/32 [01:07<00:09,  2.47s/trial, best loss: -0.9833333333333332]"
     ]
    },
    {
     "name": "stderr",
     "output_type": "stream",
     "text": [
      "\u001b[31m2025/03/24 22:12:22 WARNING mlflow.models.model: Model logged without a signature and input example. Please set `input_example` parameter when logging the model to auto infer the model signature.\u001b[0m\n",
      "\n"
     ]
    },
    {
     "name": "stdout",
     "output_type": "stream",
     "text": [
      " 91%|█████████ | 29/32 [01:10<00:07,  2.57s/trial, best loss: -0.9833333333333332]"
     ]
    },
    {
     "name": "stderr",
     "output_type": "stream",
     "text": [
      "\u001b[31m2025/03/24 22:12:25 WARNING mlflow.models.model: Model logged without a signature and input example. Please set `input_example` parameter when logging the model to auto infer the model signature.\u001b[0m\n",
      "\n"
     ]
    },
    {
     "name": "stdout",
     "output_type": "stream",
     "text": [
      " 94%|█████████▍| 30/32 [01:13<00:05,  2.68s/trial, best loss: -0.9833333333333332]"
     ]
    },
    {
     "name": "stderr",
     "output_type": "stream",
     "text": [
      "\u001b[31m2025/03/24 22:12:28 WARNING mlflow.models.model: Model logged without a signature and input example. Please set `input_example` parameter when logging the model to auto infer the model signature.\u001b[0m\n",
      "\n"
     ]
    },
    {
     "name": "stdout",
     "output_type": "stream",
     "text": [
      " 97%|█████████▋| 31/32 [01:16<00:02,  2.72s/trial, best loss: -0.9833333333333332]"
     ]
    },
    {
     "name": "stderr",
     "output_type": "stream",
     "text": [
      "\u001b[31m2025/03/24 22:12:30 WARNING mlflow.models.model: Model logged without a signature and input example. Please set `input_example` parameter when logging the model to auto infer the model signature.\u001b[0m\n",
      "\n"
     ]
    },
    {
     "name": "stdout",
     "output_type": "stream",
     "text": [
      "100%|██████████| 32/32 [01:18<00:00,  2.45s/trial, best loss: -0.9833333333333332]\n"
     ]
    }
   ],
   "source": [
    "mlflow.set_experiment('demo-experiment2')\n",
    "def objective(params):\n",
    "    with mlflow.start_run():\n",
    "        classifier_type = params['type']\n",
    "        del params['type']\n",
    "        if classifier_type == 'dt':\n",
    "            clf = DecisionTreeClassifier(**params)\n",
    "        elif classifier_type == 'rf':\n",
    "            clf = RandomForestClassifier(**params)        \n",
    "        else:\n",
    "            return 0\n",
    "        acc = cross_val_score(clf, X, y).mean()\n",
    "\n",
    "        mlflow.set_tag(\"Model\", classifier_type)\n",
    "        mlflow.log_params(params)\n",
    "        mlflow.log_metric(\"accuracy\", acc)\n",
    "        mlflow.sklearn.log_model(clf, artifact_path = 'better_models')\n",
    "        mlflow.end_run()\n",
    "        return {'loss': -acc, 'status': STATUS_OK}\n",
    "search_space = hp.choice('classifier_type', [\n",
    "    {\n",
    "        'type': 'dt',\n",
    "        'criterion': hp.choice('dtree_criterion', ['gini', 'entropy']),\n",
    "        'max_depth': hp.choice('dtree_max_depth', [None, hp.randint('dtree_max_depth_int', 1,10)]),\n",
    "        'min_samples_split': hp.randint('dtree_min_samples_split', 2,10)\n",
    "    },\n",
    "    {\n",
    "        'type': 'rf',\n",
    "        'n_estimators': hp.randint('rf_n_estimators', 20, 500),\n",
    "        'max_features': hp.randint('rf_max_features', 2,9),\n",
    "        'criterion': hp.choice('criterion', ['gini', 'entropy'])\n",
    "    },\n",
    "])\n",
    "\n",
    "algo = tpe.suggest\n",
    "trials = Trials()\n",
    "best_result = fmin(\n",
    "        fn=objective, \n",
    "        space=search_space,\n",
    "        algo=algo,\n",
    "        max_evals=32,\n",
    "        trials=trials)"
   ]
  },
  {
   "attachments": {},
   "cell_type": "markdown",
   "metadata": {},
   "source": [
    "### Loading Models\n",
    "\n",
    "Now that models have been logged, you can load specific models back into python for predicting and further analysis. There are two main ways to do this. The mlflow UI actually gives you some instructions, with code that you copy and paste."
   ]
  },
  {
   "cell_type": "code",
   "execution_count": 117,
   "metadata": {},
   "outputs": [
    {
     "data": {
      "text/plain": [
       "mlflow.pyfunc.loaded_model:\n",
       "  artifact_path: better_models\n",
       "  flavor: mlflow.sklearn\n",
       "  run_id: 1f79421f439143648fd865a621449937"
      ]
     },
     "execution_count": 117,
     "metadata": {},
     "output_type": "execute_result"
    }
   ],
   "source": [
    "logged_model = 'runs:/1f79421f439143648fd865a621449937/better_models' #replace with one of your models\n",
    "\n",
    "# Load model as a PyFuncModel.\n",
    "loaded_model = mlflow.pyfunc.load_model(logged_model)\n",
    "loaded_model"
   ]
  },
  {
   "cell_type": "code",
   "execution_count": 118,
   "metadata": {},
   "outputs": [
    {
     "data": {
      "text/html": [
       "<style>#sk-container-id-13 {\n",
       "  /* Definition of color scheme common for light and dark mode */\n",
       "  --sklearn-color-text: #000;\n",
       "  --sklearn-color-text-muted: #666;\n",
       "  --sklearn-color-line: gray;\n",
       "  /* Definition of color scheme for unfitted estimators */\n",
       "  --sklearn-color-unfitted-level-0: #fff5e6;\n",
       "  --sklearn-color-unfitted-level-1: #f6e4d2;\n",
       "  --sklearn-color-unfitted-level-2: #ffe0b3;\n",
       "  --sklearn-color-unfitted-level-3: chocolate;\n",
       "  /* Definition of color scheme for fitted estimators */\n",
       "  --sklearn-color-fitted-level-0: #f0f8ff;\n",
       "  --sklearn-color-fitted-level-1: #d4ebff;\n",
       "  --sklearn-color-fitted-level-2: #b3dbfd;\n",
       "  --sklearn-color-fitted-level-3: cornflowerblue;\n",
       "\n",
       "  /* Specific color for light theme */\n",
       "  --sklearn-color-text-on-default-background: var(--sg-text-color, var(--theme-code-foreground, var(--jp-content-font-color1, black)));\n",
       "  --sklearn-color-background: var(--sg-background-color, var(--theme-background, var(--jp-layout-color0, white)));\n",
       "  --sklearn-color-border-box: var(--sg-text-color, var(--theme-code-foreground, var(--jp-content-font-color1, black)));\n",
       "  --sklearn-color-icon: #696969;\n",
       "\n",
       "  @media (prefers-color-scheme: dark) {\n",
       "    /* Redefinition of color scheme for dark theme */\n",
       "    --sklearn-color-text-on-default-background: var(--sg-text-color, var(--theme-code-foreground, var(--jp-content-font-color1, white)));\n",
       "    --sklearn-color-background: var(--sg-background-color, var(--theme-background, var(--jp-layout-color0, #111)));\n",
       "    --sklearn-color-border-box: var(--sg-text-color, var(--theme-code-foreground, var(--jp-content-font-color1, white)));\n",
       "    --sklearn-color-icon: #878787;\n",
       "  }\n",
       "}\n",
       "\n",
       "#sk-container-id-13 {\n",
       "  color: var(--sklearn-color-text);\n",
       "}\n",
       "\n",
       "#sk-container-id-13 pre {\n",
       "  padding: 0;\n",
       "}\n",
       "\n",
       "#sk-container-id-13 input.sk-hidden--visually {\n",
       "  border: 0;\n",
       "  clip: rect(1px 1px 1px 1px);\n",
       "  clip: rect(1px, 1px, 1px, 1px);\n",
       "  height: 1px;\n",
       "  margin: -1px;\n",
       "  overflow: hidden;\n",
       "  padding: 0;\n",
       "  position: absolute;\n",
       "  width: 1px;\n",
       "}\n",
       "\n",
       "#sk-container-id-13 div.sk-dashed-wrapped {\n",
       "  border: 1px dashed var(--sklearn-color-line);\n",
       "  margin: 0 0.4em 0.5em 0.4em;\n",
       "  box-sizing: border-box;\n",
       "  padding-bottom: 0.4em;\n",
       "  background-color: var(--sklearn-color-background);\n",
       "}\n",
       "\n",
       "#sk-container-id-13 div.sk-container {\n",
       "  /* jupyter's `normalize.less` sets `[hidden] { display: none; }`\n",
       "     but bootstrap.min.css set `[hidden] { display: none !important; }`\n",
       "     so we also need the `!important` here to be able to override the\n",
       "     default hidden behavior on the sphinx rendered scikit-learn.org.\n",
       "     See: https://github.com/scikit-learn/scikit-learn/issues/21755 */\n",
       "  display: inline-block !important;\n",
       "  position: relative;\n",
       "}\n",
       "\n",
       "#sk-container-id-13 div.sk-text-repr-fallback {\n",
       "  display: none;\n",
       "}\n",
       "\n",
       "div.sk-parallel-item,\n",
       "div.sk-serial,\n",
       "div.sk-item {\n",
       "  /* draw centered vertical line to link estimators */\n",
       "  background-image: linear-gradient(var(--sklearn-color-text-on-default-background), var(--sklearn-color-text-on-default-background));\n",
       "  background-size: 2px 100%;\n",
       "  background-repeat: no-repeat;\n",
       "  background-position: center center;\n",
       "}\n",
       "\n",
       "/* Parallel-specific style estimator block */\n",
       "\n",
       "#sk-container-id-13 div.sk-parallel-item::after {\n",
       "  content: \"\";\n",
       "  width: 100%;\n",
       "  border-bottom: 2px solid var(--sklearn-color-text-on-default-background);\n",
       "  flex-grow: 1;\n",
       "}\n",
       "\n",
       "#sk-container-id-13 div.sk-parallel {\n",
       "  display: flex;\n",
       "  align-items: stretch;\n",
       "  justify-content: center;\n",
       "  background-color: var(--sklearn-color-background);\n",
       "  position: relative;\n",
       "}\n",
       "\n",
       "#sk-container-id-13 div.sk-parallel-item {\n",
       "  display: flex;\n",
       "  flex-direction: column;\n",
       "}\n",
       "\n",
       "#sk-container-id-13 div.sk-parallel-item:first-child::after {\n",
       "  align-self: flex-end;\n",
       "  width: 50%;\n",
       "}\n",
       "\n",
       "#sk-container-id-13 div.sk-parallel-item:last-child::after {\n",
       "  align-self: flex-start;\n",
       "  width: 50%;\n",
       "}\n",
       "\n",
       "#sk-container-id-13 div.sk-parallel-item:only-child::after {\n",
       "  width: 0;\n",
       "}\n",
       "\n",
       "/* Serial-specific style estimator block */\n",
       "\n",
       "#sk-container-id-13 div.sk-serial {\n",
       "  display: flex;\n",
       "  flex-direction: column;\n",
       "  align-items: center;\n",
       "  background-color: var(--sklearn-color-background);\n",
       "  padding-right: 1em;\n",
       "  padding-left: 1em;\n",
       "}\n",
       "\n",
       "\n",
       "/* Toggleable style: style used for estimator/Pipeline/ColumnTransformer box that is\n",
       "clickable and can be expanded/collapsed.\n",
       "- Pipeline and ColumnTransformer use this feature and define the default style\n",
       "- Estimators will overwrite some part of the style using the `sk-estimator` class\n",
       "*/\n",
       "\n",
       "/* Pipeline and ColumnTransformer style (default) */\n",
       "\n",
       "#sk-container-id-13 div.sk-toggleable {\n",
       "  /* Default theme specific background. It is overwritten whether we have a\n",
       "  specific estimator or a Pipeline/ColumnTransformer */\n",
       "  background-color: var(--sklearn-color-background);\n",
       "}\n",
       "\n",
       "/* Toggleable label */\n",
       "#sk-container-id-13 label.sk-toggleable__label {\n",
       "  cursor: pointer;\n",
       "  display: flex;\n",
       "  width: 100%;\n",
       "  margin-bottom: 0;\n",
       "  padding: 0.5em;\n",
       "  box-sizing: border-box;\n",
       "  text-align: center;\n",
       "  align-items: start;\n",
       "  justify-content: space-between;\n",
       "  gap: 0.5em;\n",
       "}\n",
       "\n",
       "#sk-container-id-13 label.sk-toggleable__label .caption {\n",
       "  font-size: 0.6rem;\n",
       "  font-weight: lighter;\n",
       "  color: var(--sklearn-color-text-muted);\n",
       "}\n",
       "\n",
       "#sk-container-id-13 label.sk-toggleable__label-arrow:before {\n",
       "  /* Arrow on the left of the label */\n",
       "  content: \"▸\";\n",
       "  float: left;\n",
       "  margin-right: 0.25em;\n",
       "  color: var(--sklearn-color-icon);\n",
       "}\n",
       "\n",
       "#sk-container-id-13 label.sk-toggleable__label-arrow:hover:before {\n",
       "  color: var(--sklearn-color-text);\n",
       "}\n",
       "\n",
       "/* Toggleable content - dropdown */\n",
       "\n",
       "#sk-container-id-13 div.sk-toggleable__content {\n",
       "  max-height: 0;\n",
       "  max-width: 0;\n",
       "  overflow: hidden;\n",
       "  text-align: left;\n",
       "  /* unfitted */\n",
       "  background-color: var(--sklearn-color-unfitted-level-0);\n",
       "}\n",
       "\n",
       "#sk-container-id-13 div.sk-toggleable__content.fitted {\n",
       "  /* fitted */\n",
       "  background-color: var(--sklearn-color-fitted-level-0);\n",
       "}\n",
       "\n",
       "#sk-container-id-13 div.sk-toggleable__content pre {\n",
       "  margin: 0.2em;\n",
       "  border-radius: 0.25em;\n",
       "  color: var(--sklearn-color-text);\n",
       "  /* unfitted */\n",
       "  background-color: var(--sklearn-color-unfitted-level-0);\n",
       "}\n",
       "\n",
       "#sk-container-id-13 div.sk-toggleable__content.fitted pre {\n",
       "  /* unfitted */\n",
       "  background-color: var(--sklearn-color-fitted-level-0);\n",
       "}\n",
       "\n",
       "#sk-container-id-13 input.sk-toggleable__control:checked~div.sk-toggleable__content {\n",
       "  /* Expand drop-down */\n",
       "  max-height: 200px;\n",
       "  max-width: 100%;\n",
       "  overflow: auto;\n",
       "}\n",
       "\n",
       "#sk-container-id-13 input.sk-toggleable__control:checked~label.sk-toggleable__label-arrow:before {\n",
       "  content: \"▾\";\n",
       "}\n",
       "\n",
       "/* Pipeline/ColumnTransformer-specific style */\n",
       "\n",
       "#sk-container-id-13 div.sk-label input.sk-toggleable__control:checked~label.sk-toggleable__label {\n",
       "  color: var(--sklearn-color-text);\n",
       "  background-color: var(--sklearn-color-unfitted-level-2);\n",
       "}\n",
       "\n",
       "#sk-container-id-13 div.sk-label.fitted input.sk-toggleable__control:checked~label.sk-toggleable__label {\n",
       "  background-color: var(--sklearn-color-fitted-level-2);\n",
       "}\n",
       "\n",
       "/* Estimator-specific style */\n",
       "\n",
       "/* Colorize estimator box */\n",
       "#sk-container-id-13 div.sk-estimator input.sk-toggleable__control:checked~label.sk-toggleable__label {\n",
       "  /* unfitted */\n",
       "  background-color: var(--sklearn-color-unfitted-level-2);\n",
       "}\n",
       "\n",
       "#sk-container-id-13 div.sk-estimator.fitted input.sk-toggleable__control:checked~label.sk-toggleable__label {\n",
       "  /* fitted */\n",
       "  background-color: var(--sklearn-color-fitted-level-2);\n",
       "}\n",
       "\n",
       "#sk-container-id-13 div.sk-label label.sk-toggleable__label,\n",
       "#sk-container-id-13 div.sk-label label {\n",
       "  /* The background is the default theme color */\n",
       "  color: var(--sklearn-color-text-on-default-background);\n",
       "}\n",
       "\n",
       "/* On hover, darken the color of the background */\n",
       "#sk-container-id-13 div.sk-label:hover label.sk-toggleable__label {\n",
       "  color: var(--sklearn-color-text);\n",
       "  background-color: var(--sklearn-color-unfitted-level-2);\n",
       "}\n",
       "\n",
       "/* Label box, darken color on hover, fitted */\n",
       "#sk-container-id-13 div.sk-label.fitted:hover label.sk-toggleable__label.fitted {\n",
       "  color: var(--sklearn-color-text);\n",
       "  background-color: var(--sklearn-color-fitted-level-2);\n",
       "}\n",
       "\n",
       "/* Estimator label */\n",
       "\n",
       "#sk-container-id-13 div.sk-label label {\n",
       "  font-family: monospace;\n",
       "  font-weight: bold;\n",
       "  display: inline-block;\n",
       "  line-height: 1.2em;\n",
       "}\n",
       "\n",
       "#sk-container-id-13 div.sk-label-container {\n",
       "  text-align: center;\n",
       "}\n",
       "\n",
       "/* Estimator-specific */\n",
       "#sk-container-id-13 div.sk-estimator {\n",
       "  font-family: monospace;\n",
       "  border: 1px dotted var(--sklearn-color-border-box);\n",
       "  border-radius: 0.25em;\n",
       "  box-sizing: border-box;\n",
       "  margin-bottom: 0.5em;\n",
       "  /* unfitted */\n",
       "  background-color: var(--sklearn-color-unfitted-level-0);\n",
       "}\n",
       "\n",
       "#sk-container-id-13 div.sk-estimator.fitted {\n",
       "  /* fitted */\n",
       "  background-color: var(--sklearn-color-fitted-level-0);\n",
       "}\n",
       "\n",
       "/* on hover */\n",
       "#sk-container-id-13 div.sk-estimator:hover {\n",
       "  /* unfitted */\n",
       "  background-color: var(--sklearn-color-unfitted-level-2);\n",
       "}\n",
       "\n",
       "#sk-container-id-13 div.sk-estimator.fitted:hover {\n",
       "  /* fitted */\n",
       "  background-color: var(--sklearn-color-fitted-level-2);\n",
       "}\n",
       "\n",
       "/* Specification for estimator info (e.g. \"i\" and \"?\") */\n",
       "\n",
       "/* Common style for \"i\" and \"?\" */\n",
       "\n",
       ".sk-estimator-doc-link,\n",
       "a:link.sk-estimator-doc-link,\n",
       "a:visited.sk-estimator-doc-link {\n",
       "  float: right;\n",
       "  font-size: smaller;\n",
       "  line-height: 1em;\n",
       "  font-family: monospace;\n",
       "  background-color: var(--sklearn-color-background);\n",
       "  border-radius: 1em;\n",
       "  height: 1em;\n",
       "  width: 1em;\n",
       "  text-decoration: none !important;\n",
       "  margin-left: 0.5em;\n",
       "  text-align: center;\n",
       "  /* unfitted */\n",
       "  border: var(--sklearn-color-unfitted-level-1) 1pt solid;\n",
       "  color: var(--sklearn-color-unfitted-level-1);\n",
       "}\n",
       "\n",
       ".sk-estimator-doc-link.fitted,\n",
       "a:link.sk-estimator-doc-link.fitted,\n",
       "a:visited.sk-estimator-doc-link.fitted {\n",
       "  /* fitted */\n",
       "  border: var(--sklearn-color-fitted-level-1) 1pt solid;\n",
       "  color: var(--sklearn-color-fitted-level-1);\n",
       "}\n",
       "\n",
       "/* On hover */\n",
       "div.sk-estimator:hover .sk-estimator-doc-link:hover,\n",
       ".sk-estimator-doc-link:hover,\n",
       "div.sk-label-container:hover .sk-estimator-doc-link:hover,\n",
       ".sk-estimator-doc-link:hover {\n",
       "  /* unfitted */\n",
       "  background-color: var(--sklearn-color-unfitted-level-3);\n",
       "  color: var(--sklearn-color-background);\n",
       "  text-decoration: none;\n",
       "}\n",
       "\n",
       "div.sk-estimator.fitted:hover .sk-estimator-doc-link.fitted:hover,\n",
       ".sk-estimator-doc-link.fitted:hover,\n",
       "div.sk-label-container:hover .sk-estimator-doc-link.fitted:hover,\n",
       ".sk-estimator-doc-link.fitted:hover {\n",
       "  /* fitted */\n",
       "  background-color: var(--sklearn-color-fitted-level-3);\n",
       "  color: var(--sklearn-color-background);\n",
       "  text-decoration: none;\n",
       "}\n",
       "\n",
       "/* Span, style for the box shown on hovering the info icon */\n",
       ".sk-estimator-doc-link span {\n",
       "  display: none;\n",
       "  z-index: 9999;\n",
       "  position: relative;\n",
       "  font-weight: normal;\n",
       "  right: .2ex;\n",
       "  padding: .5ex;\n",
       "  margin: .5ex;\n",
       "  width: min-content;\n",
       "  min-width: 20ex;\n",
       "  max-width: 50ex;\n",
       "  color: var(--sklearn-color-text);\n",
       "  box-shadow: 2pt 2pt 4pt #999;\n",
       "  /* unfitted */\n",
       "  background: var(--sklearn-color-unfitted-level-0);\n",
       "  border: .5pt solid var(--sklearn-color-unfitted-level-3);\n",
       "}\n",
       "\n",
       ".sk-estimator-doc-link.fitted span {\n",
       "  /* fitted */\n",
       "  background: var(--sklearn-color-fitted-level-0);\n",
       "  border: var(--sklearn-color-fitted-level-3);\n",
       "}\n",
       "\n",
       ".sk-estimator-doc-link:hover span {\n",
       "  display: block;\n",
       "}\n",
       "\n",
       "/* \"?\"-specific style due to the `<a>` HTML tag */\n",
       "\n",
       "#sk-container-id-13 a.estimator_doc_link {\n",
       "  float: right;\n",
       "  font-size: 1rem;\n",
       "  line-height: 1em;\n",
       "  font-family: monospace;\n",
       "  background-color: var(--sklearn-color-background);\n",
       "  border-radius: 1rem;\n",
       "  height: 1rem;\n",
       "  width: 1rem;\n",
       "  text-decoration: none;\n",
       "  /* unfitted */\n",
       "  color: var(--sklearn-color-unfitted-level-1);\n",
       "  border: var(--sklearn-color-unfitted-level-1) 1pt solid;\n",
       "}\n",
       "\n",
       "#sk-container-id-13 a.estimator_doc_link.fitted {\n",
       "  /* fitted */\n",
       "  border: var(--sklearn-color-fitted-level-1) 1pt solid;\n",
       "  color: var(--sklearn-color-fitted-level-1);\n",
       "}\n",
       "\n",
       "/* On hover */\n",
       "#sk-container-id-13 a.estimator_doc_link:hover {\n",
       "  /* unfitted */\n",
       "  background-color: var(--sklearn-color-unfitted-level-3);\n",
       "  color: var(--sklearn-color-background);\n",
       "  text-decoration: none;\n",
       "}\n",
       "\n",
       "#sk-container-id-13 a.estimator_doc_link.fitted:hover {\n",
       "  /* fitted */\n",
       "  background-color: var(--sklearn-color-fitted-level-3);\n",
       "}\n",
       "</style><div id=\"sk-container-id-13\" class=\"sk-top-container\"><div class=\"sk-text-repr-fallback\"><pre>DecisionTreeClassifier(max_depth=5)</pre><b>In a Jupyter environment, please rerun this cell to show the HTML representation or trust the notebook. <br />On GitHub, the HTML representation is unable to render, please try loading this page with nbviewer.org.</b></div><div class=\"sk-container\" hidden><div class=\"sk-item\"><div class=\"sk-estimator fitted sk-toggleable\"><input class=\"sk-toggleable__control sk-hidden--visually\" id=\"sk-estimator-id-13\" type=\"checkbox\" checked><label for=\"sk-estimator-id-13\" class=\"sk-toggleable__label fitted sk-toggleable__label-arrow\"><div><div>DecisionTreeClassifier</div></div><div><a class=\"sk-estimator-doc-link fitted\" rel=\"noreferrer\" target=\"_blank\" href=\"https://scikit-learn.org/1.6/modules/generated/sklearn.tree.DecisionTreeClassifier.html\">?<span>Documentation for DecisionTreeClassifier</span></a><span class=\"sk-estimator-doc-link fitted\">i<span>Fitted</span></span></div></label><div class=\"sk-toggleable__content fitted\"><pre>DecisionTreeClassifier(max_depth=5)</pre></div> </div></div></div></div>"
      ],
      "text/plain": [
       "DecisionTreeClassifier(max_depth=5)"
      ]
     },
     "execution_count": 118,
     "metadata": {},
     "output_type": "execute_result"
    }
   ],
   "source": [
    "sklearn_model = mlflow.sklearn.load_model(logged_model)\n",
    "sklearn_model"
   ]
  },
  {
   "cell_type": "code",
   "execution_count": 119,
   "metadata": {},
   "outputs": [
    {
     "data": {
      "text/plain": [
       "array([1, 2, 1, 2, 1])"
      ]
     },
     "execution_count": 119,
     "metadata": {},
     "output_type": "execute_result"
    }
   ],
   "source": [
    "sklearn_model.fit(X_train, y_train)\n",
    "preds = sklearn_model.predict(X_test)\n",
    "preds[:5]"
   ]
  },
  {
   "attachments": {},
   "cell_type": "markdown",
   "metadata": {},
   "source": [
    "### Model Registry\n",
    "\n",
    "Typically, you will **register** your *chosen* model, the model you plan to put into production. But, sometimes, after you've chosen and registered a model, you may need to replace that model with a new version. For example, the model may have gone into production and started to degrade in performance, and so the model needed to be retrained. Or, you go to deploy your model and notice an error or bug, and now have to go back and retrain it.\n",
    "\n",
    "In this section let's see how we take our logged models and register them in the model registry, which then can get picked up by the production process, or engineer, for deployment. First, I'll demonstrate how this is done within the UI, but then below I'll show how we can use the python API to do the same thing."
   ]
  },
  {
   "cell_type": "code",
   "execution_count": 121,
   "metadata": {},
   "outputs": [
    {
     "name": "stderr",
     "output_type": "stream",
     "text": [
      "Registered model 'wine_model_from_nb' already exists. Creating a new version of this model...\n",
      "Created version '1' of model 'wine_model_from_nb'.\n"
     ]
    },
    {
     "data": {
      "text/plain": [
       "<ModelVersion: aliases=[], creation_timestamp=1742879842514, current_stage='None', description=None, last_updated_timestamp=1742879842514, name='wine_model_from_nb', run_id='1f79421f439143648fd865a621449937', run_link=None, source=('/Users/jennifertran/Desktop/Spring PT 2 '\n",
       " '2025/mlops/labs/mlruns/1/1f79421f439143648fd865a621449937/artifacts/artifacts/better_models'), status='READY', status_message=None, tags={}, user_id=None, version=1>"
      ]
     },
     "execution_count": 121,
     "metadata": {},
     "output_type": "execute_result"
    }
   ],
   "source": [
    "runid = '1f79421f439143648fd865a621449937'\n",
    "mod_path = f'runs:/{runid}/artifacts/better_models'\n",
    "mlflow.register_model(model_uri = mod_path, name = 'wine_model_from_nb')"
   ]
  },
  {
   "attachments": {},
   "cell_type": "markdown",
   "metadata": {},
   "source": [
    "## Common Issues\n",
    "\n",
    "- Nothing is appearing in the MLFlow UI: make sure you start the UI from the directory where your notebook is running.  \n",
    "- I installed a library, but I'm getting an error loading it: be sure you installed it in the same environment as where your notebook is running.  \n",
    "- MLFlow doesn't seem to be working at all, I'm just getting errors all over the place: this might be a versioning issue.  \n",
    "- The UI broke, I can't get back to it: `sudo lsof -i :5000 | awk '{print $2}' | tail -n +2 | xargs kill`\n"
   ]
  },
  {
   "attachments": {},
   "cell_type": "markdown",
   "metadata": {},
   "source": [
    "\n",
    "# Experiment Tracking and Model Registry Lab\n",
    "\n",
    "## Overview\n",
    "\n",
    "In this lab you will each download a new dataset and attempt to train a good model, and use mlflow to keep track of all of your experiments, log your metrics, artifacts and models, and then register a final set of models for \"deployment\", though we won't actually deploy them anywhere yet.\n",
    "\n",
    "## Goal\n",
    "\n",
    "Your goal is **not** to become a master at MLFlow - this is not a course on learning all of the ins and outs of MLFlow. Instead, your goal is to understand when and why it is important to track your model development process (tracking experiments, artifacts and models) and to get into the habit of doing so, and then learn at least the basics of how MLFlow helps you do this so that you can then compare with other tools that are available.\n",
    "\n",
    "## Data\n",
    "\n",
    "You can choose your own dataset to use here. It will be helpful to choose a dataset that is already fairly clean and easy to work with. You can even use a dataset that you've used in a previous course. We will do a lot of labs where we do different things with datasets, so if you can find one that is interesting enough for modeling, it should work for most of the rest of the course. \n",
    "\n",
    "There are tons of places where you can find open public datasets. Choose something that interests you, but don't overthink it.\n",
    "\n",
    "[Kaggle Datasets](https://www.kaggle.com/datasets)  \n",
    "[HuggingFace Datasets](https://huggingface.co/docs/datasets/index)  \n",
    "[Dagshub Datasets](https://dagshub.com/datasets/)  \n",
    "[UCI](https://archive.ics.uci.edu/ml/datasets.php)  \n",
    "[Open Data on AWS](https://registry.opendata.aws/)  \n",
    "[Yelp](https://www.yelp.com/dataset)  \n",
    "[MovieLens](https://grouplens.org/datasets/movielens/)  \n",
    "And so many more...\n",
    "\n",
    "## Instructions\n",
    "\n",
    "Once you have selected a set of data, create a brand new experiment in MLFlow and begin exploring your data. Do some EDA, clean up, and learn about your data. You do not need to begin tracking anything yet, but you can if you want to (e.g. you can log different versions of your data as you clean it up and do any feature engineering). Do not spend a ton of time on this part. Your goal isn't really to build a great model, so don't spend hours on feature engineering and missing data imputation and things like that.\n",
    "\n",
    "Once your data is clean, begin training models and tracking your experiments. If you intend to use this same dataset for your final project, then start thinking about what your model might look like when you actually deploy it. For example, when you engineer new features, be sure to save the code that does this, as you will need this in the future. If your final model has 1000 complex features, you might have a difficult time deploying it later on. If your final model takes 15 minutes to train, or takes a long time to score a new batch of data, you may want to think about training a less complex model.\n",
    "\n",
    "Now, when tracking your experiments, at a *minimum*, you should:\n",
    "\n",
    "1. Try at least 3 different ML algorithms (e.g. linear regression, decision tree, random forest, etc.).\n",
    "2. Do hyperparameter tuning for **each** algorithm.\n",
    "3. Do some very basic feature selection, and repeat the above steps with these reduced sets of features.\n",
    "4. Identify the top 3 best models and note these down for later.\n",
    "6. Choose the **final** \"best\" model that you would deploy or use on future data, stage it (in MLFlow), and run it on the test set to get a final measure of performance. Don't forget to log the test set metric.\n",
    "7. Be sure you logged the exact training, validation, and testing datasets for the 3 best models, as well as hyperparameter values, and the values of your metrics.  \n",
    "8. Push your code to Github. No need to track the mlruns folder, the images folder, any datasets, or the sqlite database in git.\n",
    "\n",
    "### Turning It In\n",
    "\n",
    "In the MLFlow UI, next to the refresh button you should see three vertical dots. Click the dots and then download your experiments as a csv file. Open the csv file in Excel and highlight the rows for your top 3 models from step 4, highlight the run where you applied your best model to the test set, and then save as an excel file. Take a snapshot of the Models page in the MLFLow UI showing the model you staged in step 6 above. Submit the excel file and the snapshot to Canvas."
   ]
  },
  {
   "cell_type": "code",
   "execution_count": 19,
   "metadata": {},
   "outputs": [],
   "source": [
    "import mlflow\n",
    "import numpy as np\n",
    "from sklearn.model_selection import train_test_split\n",
    "from sklearn.preprocessing import StandardScaler\n",
    "from sklearn.linear_model import LinearRegression\n",
    "from sklearn.tree import DecisionTreeRegressor\n",
    "from sklearn.ensemble import RandomForestRegressor\n",
    "from sklearn.metrics import mean_squared_error, r2_score\n",
    "from hyperopt import fmin, tpe, hp, STATUS_OK, Trials\n"
   ]
  },
  {
   "cell_type": "code",
   "execution_count": 20,
   "metadata": {},
   "outputs": [
    {
     "data": {
      "text/html": [
       "<div>\n",
       "<style scoped>\n",
       "    .dataframe tbody tr th:only-of-type {\n",
       "        vertical-align: middle;\n",
       "    }\n",
       "\n",
       "    .dataframe tbody tr th {\n",
       "        vertical-align: top;\n",
       "    }\n",
       "\n",
       "    .dataframe thead th {\n",
       "        text-align: right;\n",
       "    }\n",
       "</style>\n",
       "<table border=\"1\" class=\"dataframe\">\n",
       "  <thead>\n",
       "    <tr style=\"text-align: right;\">\n",
       "      <th></th>\n",
       "      <th>Country</th>\n",
       "      <th>Year</th>\n",
       "      <th>Smartphone Sales (Millions)</th>\n",
       "      <th>Laptop Shipments (Millions)</th>\n",
       "      <th>Gaming Console Adoption (%)</th>\n",
       "      <th>Smartwatch Penetration (%)</th>\n",
       "      <th>Average Consumer Spending on Gadgets ($)</th>\n",
       "      <th>E-Waste Generated (Metric Tons)</th>\n",
       "      <th>5G Penetration Rate (%)</th>\n",
       "    </tr>\n",
       "  </thead>\n",
       "  <tbody>\n",
       "    <tr>\n",
       "      <th>0</th>\n",
       "      <td>USA</td>\n",
       "      <td>2015</td>\n",
       "      <td>111.37</td>\n",
       "      <td>123.63</td>\n",
       "      <td>12.05</td>\n",
       "      <td>14.49</td>\n",
       "      <td>311.21</td>\n",
       "      <td>939.89</td>\n",
       "      <td>54.64</td>\n",
       "    </tr>\n",
       "    <tr>\n",
       "      <th>1</th>\n",
       "      <td>USA</td>\n",
       "      <td>2016</td>\n",
       "      <td>224.65</td>\n",
       "      <td>65.27</td>\n",
       "      <td>12.92</td>\n",
       "      <td>9.88</td>\n",
       "      <td>250.46</td>\n",
       "      <td>1361.42</td>\n",
       "      <td>53.61</td>\n",
       "    </tr>\n",
       "    <tr>\n",
       "      <th>2</th>\n",
       "      <td>USA</td>\n",
       "      <td>2017</td>\n",
       "      <td>102.12</td>\n",
       "      <td>26.75</td>\n",
       "      <td>19.63</td>\n",
       "      <td>17.35</td>\n",
       "      <td>2404.22</td>\n",
       "      <td>872.52</td>\n",
       "      <td>29.94</td>\n",
       "    </tr>\n",
       "    <tr>\n",
       "      <th>3</th>\n",
       "      <td>USA</td>\n",
       "      <td>2018</td>\n",
       "      <td>148.10</td>\n",
       "      <td>129.28</td>\n",
       "      <td>26.44</td>\n",
       "      <td>12.45</td>\n",
       "      <td>1883.37</td>\n",
       "      <td>1241.41</td>\n",
       "      <td>75.88</td>\n",
       "    </tr>\n",
       "    <tr>\n",
       "      <th>4</th>\n",
       "      <td>USA</td>\n",
       "      <td>2019</td>\n",
       "      <td>83.93</td>\n",
       "      <td>97.81</td>\n",
       "      <td>20.84</td>\n",
       "      <td>6.18</td>\n",
       "      <td>777.42</td>\n",
       "      <td>1939.39</td>\n",
       "      <td>76.26</td>\n",
       "    </tr>\n",
       "  </tbody>\n",
       "</table>\n",
       "</div>"
      ],
      "text/plain": [
       "  Country  Year  Smartphone Sales (Millions)  Laptop Shipments (Millions)  \\\n",
       "0     USA  2015                       111.37                       123.63   \n",
       "1     USA  2016                       224.65                        65.27   \n",
       "2     USA  2017                       102.12                        26.75   \n",
       "3     USA  2018                       148.10                       129.28   \n",
       "4     USA  2019                        83.93                        97.81   \n",
       "\n",
       "   Gaming Console Adoption (%)  Smartwatch Penetration (%)  \\\n",
       "0                        12.05                       14.49   \n",
       "1                        12.92                        9.88   \n",
       "2                        19.63                       17.35   \n",
       "3                        26.44                       12.45   \n",
       "4                        20.84                        6.18   \n",
       "\n",
       "   Average Consumer Spending on Gadgets ($)  E-Waste Generated (Metric Tons)  \\\n",
       "0                                    311.21                           939.89   \n",
       "1                                    250.46                          1361.42   \n",
       "2                                   2404.22                           872.52   \n",
       "3                                   1883.37                          1241.41   \n",
       "4                                    777.42                          1939.39   \n",
       "\n",
       "   5G Penetration Rate (%)  \n",
       "0                    54.64  \n",
       "1                    53.61  \n",
       "2                    29.94  \n",
       "3                    75.88  \n",
       "4                    76.26  "
      ]
     },
     "execution_count": 20,
     "metadata": {},
     "output_type": "execute_result"
    }
   ],
   "source": [
    "df = pd.read_csv(\"Global_Tech_Gadget_Consumption.csv\")\n",
    "df.head()\n"
   ]
  },
  {
   "cell_type": "code",
   "execution_count": 21,
   "metadata": {},
   "outputs": [
    {
     "name": "stdout",
     "output_type": "stream",
     "text": [
      "<class 'pandas.core.frame.DataFrame'>\n",
      "RangeIndex: 110 entries, 0 to 109\n",
      "Data columns (total 9 columns):\n",
      " #   Column                                    Non-Null Count  Dtype  \n",
      "---  ------                                    --------------  -----  \n",
      " 0   Country                                   110 non-null    object \n",
      " 1   Year                                      110 non-null    int64  \n",
      " 2   Smartphone Sales (Millions)               110 non-null    float64\n",
      " 3   Laptop Shipments (Millions)               110 non-null    float64\n",
      " 4   Gaming Console Adoption (%)               110 non-null    float64\n",
      " 5   Smartwatch Penetration (%)                110 non-null    float64\n",
      " 6   Average Consumer Spending on Gadgets ($)  110 non-null    float64\n",
      " 7   E-Waste Generated (Metric Tons)           110 non-null    float64\n",
      " 8   5G Penetration Rate (%)                   110 non-null    float64\n",
      "dtypes: float64(7), int64(1), object(1)\n",
      "memory usage: 7.9+ KB\n"
     ]
    }
   ],
   "source": [
    "df.info()"
   ]
  },
  {
   "cell_type": "code",
   "execution_count": 22,
   "metadata": {},
   "outputs": [
    {
     "data": {
      "text/plain": [
       "Country                                     0\n",
       "Year                                        0\n",
       "Smartphone Sales (Millions)                 0\n",
       "Laptop Shipments (Millions)                 0\n",
       "Gaming Console Adoption (%)                 0\n",
       "Smartwatch Penetration (%)                  0\n",
       "Average Consumer Spending on Gadgets ($)    0\n",
       "E-Waste Generated (Metric Tons)             0\n",
       "5G Penetration Rate (%)                     0\n",
       "dtype: int64"
      ]
     },
     "execution_count": 22,
     "metadata": {},
     "output_type": "execute_result"
    }
   ],
   "source": [
    "df.isnull().sum()"
   ]
  },
  {
   "cell_type": "code",
   "execution_count": 23,
   "metadata": {},
   "outputs": [
    {
     "name": "stdout",
     "output_type": "stream",
     "text": [
      "Requirement already satisfied: seaborn in /Users/jennifertran/Desktop/Spring PT 2 2025/mlops/mlops/lib/python3.13/site-packages (0.13.2)\n",
      "Requirement already satisfied: numpy!=1.24.0,>=1.20 in /Users/jennifertran/Desktop/Spring PT 2 2025/mlops/mlops/lib/python3.13/site-packages (from seaborn) (2.2.4)\n",
      "Requirement already satisfied: pandas>=1.2 in /Users/jennifertran/Desktop/Spring PT 2 2025/mlops/mlops/lib/python3.13/site-packages (from seaborn) (2.2.3)\n",
      "Requirement already satisfied: matplotlib!=3.6.1,>=3.4 in /Users/jennifertran/Desktop/Spring PT 2 2025/mlops/mlops/lib/python3.13/site-packages (from seaborn) (3.10.1)\n",
      "Requirement already satisfied: contourpy>=1.0.1 in /Users/jennifertran/Desktop/Spring PT 2 2025/mlops/mlops/lib/python3.13/site-packages (from matplotlib!=3.6.1,>=3.4->seaborn) (1.3.1)\n",
      "Requirement already satisfied: cycler>=0.10 in /Users/jennifertran/Desktop/Spring PT 2 2025/mlops/mlops/lib/python3.13/site-packages (from matplotlib!=3.6.1,>=3.4->seaborn) (0.12.1)\n",
      "Requirement already satisfied: fonttools>=4.22.0 in /Users/jennifertran/Desktop/Spring PT 2 2025/mlops/mlops/lib/python3.13/site-packages (from matplotlib!=3.6.1,>=3.4->seaborn) (4.56.0)\n",
      "Requirement already satisfied: kiwisolver>=1.3.1 in /Users/jennifertran/Desktop/Spring PT 2 2025/mlops/mlops/lib/python3.13/site-packages (from matplotlib!=3.6.1,>=3.4->seaborn) (1.4.8)\n",
      "Requirement already satisfied: packaging>=20.0 in /Users/jennifertran/Desktop/Spring PT 2 2025/mlops/mlops/lib/python3.13/site-packages (from matplotlib!=3.6.1,>=3.4->seaborn) (24.2)\n",
      "Requirement already satisfied: pillow>=8 in /Users/jennifertran/Desktop/Spring PT 2 2025/mlops/mlops/lib/python3.13/site-packages (from matplotlib!=3.6.1,>=3.4->seaborn) (11.1.0)\n",
      "Requirement already satisfied: pyparsing>=2.3.1 in /Users/jennifertran/Desktop/Spring PT 2 2025/mlops/mlops/lib/python3.13/site-packages (from matplotlib!=3.6.1,>=3.4->seaborn) (3.2.2)\n",
      "Requirement already satisfied: python-dateutil>=2.7 in /Users/jennifertran/Desktop/Spring PT 2 2025/mlops/mlops/lib/python3.13/site-packages (from matplotlib!=3.6.1,>=3.4->seaborn) (2.9.0.post0)\n",
      "Requirement already satisfied: pytz>=2020.1 in /Users/jennifertran/Desktop/Spring PT 2 2025/mlops/mlops/lib/python3.13/site-packages (from pandas>=1.2->seaborn) (2025.2)\n",
      "Requirement already satisfied: tzdata>=2022.7 in /Users/jennifertran/Desktop/Spring PT 2 2025/mlops/mlops/lib/python3.13/site-packages (from pandas>=1.2->seaborn) (2025.2)\n",
      "Requirement already satisfied: six>=1.5 in /Users/jennifertran/Desktop/Spring PT 2 2025/mlops/mlops/lib/python3.13/site-packages (from python-dateutil>=2.7->matplotlib!=3.6.1,>=3.4->seaborn) (1.17.0)\n"
     ]
    }
   ],
   "source": [
    "!pip install seaborn"
   ]
  },
  {
   "cell_type": "code",
   "execution_count": 24,
   "metadata": {},
   "outputs": [
    {
     "data": {
      "image/png": "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",
      "text/plain": [
       "<Figure size 1200x800 with 2 Axes>"
      ]
     },
     "metadata": {},
     "output_type": "display_data"
    }
   ],
   "source": [
    "import matplotlib.pyplot as plt\n",
    "import seaborn as sns\n",
    "\n",
    "plt.figure(figsize=(12, 8))\n",
    "correlation_matrix = df.drop('Country', axis=1).corr()\n",
    "sns.heatmap(correlation_matrix, annot=True, cmap= 'coolwarm', center= 0)\n",
    "plt.title('Correlation of the feautures')\n",
    "plt.tight_layout()\n",
    "plt.show()"
   ]
  },
  {
   "cell_type": "code",
   "execution_count": 25,
   "metadata": {},
   "outputs": [
    {
     "data": {
      "text/plain": [
       "(array([   0.,  250.,  500.,  750., 1000., 1250., 1500., 1750., 2000.,\n",
       "        2250.]),\n",
       " [Text(0.0, 0, '0'),\n",
       "  Text(250.0, 0, '250'),\n",
       "  Text(500.0, 0, '500'),\n",
       "  Text(750.0, 0, '750'),\n",
       "  Text(1000.0, 0, '1000'),\n",
       "  Text(1250.0, 0, '1250'),\n",
       "  Text(1500.0, 0, '1500'),\n",
       "  Text(1750.0, 0, '1750'),\n",
       "  Text(2000.0, 0, '2000'),\n",
       "  Text(2250.0, 0, '2250')])"
      ]
     },
     "execution_count": 25,
     "metadata": {},
     "output_type": "execute_result"
    },
    {
     "data": {
      "image/png": "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",
      "text/plain": [
       "<Figure size 1200x800 with 1 Axes>"
      ]
     },
     "metadata": {},
     "output_type": "display_data"
    }
   ],
   "source": [
    "plt.figure(figsize=(12, 8))\n",
    "sns.histplot(df['E-Waste Generated (Metric Tons)'], kde= True)\n",
    "plt.title('distrub of of e-waste gene')\n",
    "plt.xticks(rotation= 45)"
   ]
  },
  {
   "cell_type": "code",
   "execution_count": 26,
   "metadata": {},
   "outputs": [],
   "source": [
    "X = df.drop(['E-Waste Generated (Metric Tons)','Country'], axis= 1)\n",
    "y = df['E-Waste Generated (Metric Tons)']"
   ]
  },
  {
   "cell_type": "code",
   "execution_count": 27,
   "metadata": {},
   "outputs": [],
   "source": [
    "X_train, X_test, y_train, y_test = train_test_split(X, y, test_size=0.2, random_state=42)"
   ]
  },
  {
   "cell_type": "code",
   "execution_count": 28,
   "metadata": {},
   "outputs": [],
   "source": [
    "scaler = StandardScaler()\n",
    "X_train_scaled = scaler.fit_transform(X_train)\n",
    "X_test_scaled = scaler.transform(X_test)"
   ]
  },
  {
   "cell_type": "code",
   "execution_count": 36,
   "metadata": {},
   "outputs": [
    {
     "data": {
      "text/plain": [
       "<Experiment: artifact_location='/Users/jennifertran/Desktop/Spring PT 2 2025/mlops/labs/mlruns/1', creation_time=1742883344448, experiment_id='1', last_update_time=1742883344448, lifecycle_stage='active', name='lab2', tags={}>"
      ]
     },
     "execution_count": 36,
     "metadata": {},
     "output_type": "execute_result"
    }
   ],
   "source": [
    "mlflow.set_tracking_uri("http://127.0.0.1:5000")
    "mlflow.set_experiment(\"lab2\")"
   ]
  },
  {
   "cell_type": "code",
   "execution_count": 37,
   "metadata": {},
   "outputs": [
    {
     "name": "stdout",
     "output_type": "stream",
     "text": [
      "  0%|          | 0/32 [00:00<?, ?trial/s, best loss=?]"
     ]
    },
    {
     "name": "stderr",
     "output_type": "stream",
     "text": [
      "\u001b[31m2025/03/24 23:50:57 WARNING mlflow.models.model: Model logged without a signature and input example. Please set `input_example` parameter when logging the model to auto infer the model signature.\u001b[0m\n",
      "\n"
     ]
    },
    {
     "name": "stdout",
     "output_type": "stream",
     "text": [
      "  3%|▎         | 1/32 [00:02<01:18,  2.52s/trial, best loss: 652.7727403417424]"
     ]
    },
    {
     "name": "stderr",
     "output_type": "stream",
     "text": [
      "\u001b[31m2025/03/24 23:50:59 WARNING mlflow.models.model: Model logged without a signature and input example. Please set `input_example` parameter when logging the model to auto infer the model signature.\u001b[0m\n",
      "\n"
     ]
    },
    {
     "name": "stdout",
     "output_type": "stream",
     "text": [
      "  6%|▋         | 2/32 [00:04<01:10,  2.36s/trial, best loss: 652.7727403417424]"
     ]
    },
    {
     "name": "stderr",
     "output_type": "stream",
     "text": [
      "\u001b[31m2025/03/24 23:51:01 WARNING mlflow.models.model: Model logged without a signature and input example. Please set `input_example` parameter when logging the model to auto infer the model signature.\u001b[0m\n",
      "\n"
     ]
    },
    {
     "name": "stdout",
     "output_type": "stream",
     "text": [
      "  9%|▉         | 3/32 [00:06<01:06,  2.28s/trial, best loss: 648.2842657918058]"
     ]
    },
    {
     "name": "stderr",
     "output_type": "stream",
     "text": [
      "\u001b[31m2025/03/24 23:51:03 WARNING mlflow.models.model: Model logged without a signature and input example. Please set `input_example` parameter when logging the model to auto infer the model signature.\u001b[0m\n",
      "\n"
     ]
    },
    {
     "name": "stdout",
     "output_type": "stream",
     "text": [
      " 12%|█▎        | 4/32 [00:08<00:58,  2.10s/trial, best loss: 648.2842657918058]"
     ]
    },
    {
     "name": "stderr",
     "output_type": "stream",
     "text": [
      "\u001b[31m2025/03/24 23:51:05 WARNING mlflow.models.model: Model logged without a signature and input example. Please set `input_example` parameter when logging the model to auto infer the model signature.\u001b[0m\n",
      "\n"
     ]
    },
    {
     "name": "stdout",
     "output_type": "stream",
     "text": [
      " 16%|█▌        | 5/32 [00:10<00:53,  1.97s/trial, best loss: 648.2842657918058]"
     ]
    },
    {
     "name": "stderr",
     "output_type": "stream",
     "text": [
      "\u001b[31m2025/03/24 23:51:07 WARNING mlflow.models.model: Model logged without a signature and input example. Please set `input_example` parameter when logging the model to auto infer the model signature.\u001b[0m\n",
      "\n"
     ]
    },
    {
     "name": "stdout",
     "output_type": "stream",
     "text": [
      " 19%|█▉        | 6/32 [00:12<00:48,  1.87s/trial, best loss: 648.2842657918058]"
     ]
    },
    {
     "name": "stderr",
     "output_type": "stream",
     "text": [
      "\u001b[31m2025/03/24 23:51:09 WARNING mlflow.models.model: Model logged without a signature and input example. Please set `input_example` parameter when logging the model to auto infer the model signature.\u001b[0m\n",
      "\n"
     ]
    },
    {
     "name": "stdout",
     "output_type": "stream",
     "text": [
      " 22%|██▏       | 7/32 [00:14<00:48,  1.94s/trial, best loss: 648.2842657918058]"
     ]
    },
    {
     "name": "stderr",
     "output_type": "stream",
     "text": [
      "\u001b[31m2025/03/24 23:51:11 WARNING mlflow.models.model: Model logged without a signature and input example. Please set `input_example` parameter when logging the model to auto infer the model signature.\u001b[0m\n",
      "\n"
     ]
    },
    {
     "name": "stdout",
     "output_type": "stream",
     "text": [
      " 25%|██▌       | 8/32 [00:16<00:45,  1.89s/trial, best loss: 648.2842657918058]"
     ]
    },
    {
     "name": "stderr",
     "output_type": "stream",
     "text": [
      "\u001b[31m2025/03/24 23:51:12 WARNING mlflow.models.model: Model logged without a signature and input example. Please set `input_example` parameter when logging the model to auto infer the model signature.\u001b[0m\n",
      "\n"
     ]
    },
    {
     "name": "stdout",
     "output_type": "stream",
     "text": [
      " 28%|██▊       | 9/32 [00:17<00:41,  1.83s/trial, best loss: 648.2842657918058]"
     ]
    },
    {
     "name": "stderr",
     "output_type": "stream",
     "text": [
      "\u001b[31m2025/03/24 23:51:14 WARNING mlflow.models.model: Model logged without a signature and input example. Please set `input_example` parameter when logging the model to auto infer the model signature.\u001b[0m\n",
      "\n"
     ]
    },
    {
     "name": "stdout",
     "output_type": "stream",
     "text": [
      " 31%|███▏      | 10/32 [00:19<00:38,  1.77s/trial, best loss: 648.2842657918058]"
     ]
    },
    {
     "name": "stderr",
     "output_type": "stream",
     "text": [
      "\u001b[31m2025/03/24 23:51:16 WARNING mlflow.models.model: Model logged without a signature and input example. Please set `input_example` parameter when logging the model to auto infer the model signature.\u001b[0m\n",
      "\n"
     ]
    },
    {
     "name": "stdout",
     "output_type": "stream",
     "text": [
      " 34%|███▍      | 11/32 [00:21<00:39,  1.88s/trial, best loss: 648.2842657918058]"
     ]
    },
    {
     "name": "stderr",
     "output_type": "stream",
     "text": [
      "\u001b[31m2025/03/24 23:51:18 WARNING mlflow.models.model: Model logged without a signature and input example. Please set `input_example` parameter when logging the model to auto infer the model signature.\u001b[0m\n",
      "\n"
     ]
    },
    {
     "name": "stdout",
     "output_type": "stream",
     "text": [
      " 38%|███▊      | 12/32 [00:23<00:36,  1.82s/trial, best loss: 648.2842657918058]"
     ]
    },
    {
     "name": "stderr",
     "output_type": "stream",
     "text": [
      "\u001b[31m2025/03/24 23:51:19 WARNING mlflow.models.model: Model logged without a signature and input example. Please set `input_example` parameter when logging the model to auto infer the model signature.\u001b[0m\n",
      "\n"
     ]
    },
    {
     "name": "stdout",
     "output_type": "stream",
     "text": [
      " 41%|████      | 13/32 [00:24<00:34,  1.80s/trial, best loss: 648.2842657918058]"
     ]
    },
    {
     "name": "stderr",
     "output_type": "stream",
     "text": [
      "\u001b[31m2025/03/24 23:51:22 WARNING mlflow.models.model: Model logged without a signature and input example. Please set `input_example` parameter when logging the model to auto infer the model signature.\u001b[0m\n",
      "\n"
     ]
    },
    {
     "name": "stdout",
     "output_type": "stream",
     "text": [
      " 44%|████▍     | 14/32 [00:27<00:34,  1.91s/trial, best loss: 648.2842657918058]"
     ]
    },
    {
     "name": "stderr",
     "output_type": "stream",
     "text": [
      "\u001b[31m2025/03/24 23:51:23 WARNING mlflow.models.model: Model logged without a signature and input example. Please set `input_example` parameter when logging the model to auto infer the model signature.\u001b[0m\n",
      "\n"
     ]
    },
    {
     "name": "stdout",
     "output_type": "stream",
     "text": [
      " 47%|████▋     | 15/32 [00:28<00:31,  1.85s/trial, best loss: 648.2842657918058]"
     ]
    },
    {
     "name": "stderr",
     "output_type": "stream",
     "text": [
      "\u001b[31m2025/03/24 23:51:25 WARNING mlflow.models.model: Model logged without a signature and input example. Please set `input_example` parameter when logging the model to auto infer the model signature.\u001b[0m\n",
      "\n"
     ]
    },
    {
     "name": "stdout",
     "output_type": "stream",
     "text": [
      " 50%|█████     | 16/32 [00:30<00:29,  1.82s/trial, best loss: 648.2842657918058]"
     ]
    },
    {
     "name": "stderr",
     "output_type": "stream",
     "text": [
      "\u001b[31m2025/03/24 23:51:27 WARNING mlflow.models.model: Model logged without a signature and input example. Please set `input_example` parameter when logging the model to auto infer the model signature.\u001b[0m\n",
      "\n"
     ]
    },
    {
     "name": "stdout",
     "output_type": "stream",
     "text": [
      " 53%|█████▎    | 17/32 [00:32<00:28,  1.91s/trial, best loss: 648.2842657918058]"
     ]
    },
    {
     "name": "stderr",
     "output_type": "stream",
     "text": [
      "\u001b[31m2025/03/24 23:51:29 WARNING mlflow.models.model: Model logged without a signature and input example. Please set `input_example` parameter when logging the model to auto infer the model signature.\u001b[0m\n",
      "\n"
     ]
    },
    {
     "name": "stdout",
     "output_type": "stream",
     "text": [
      " 56%|█████▋    | 18/32 [00:34<00:27,  1.96s/trial, best loss: 648.2842657918058]"
     ]
    },
    {
     "name": "stderr",
     "output_type": "stream",
     "text": [
      "\u001b[31m2025/03/24 23:51:31 WARNING mlflow.models.model: Model logged without a signature and input example. Please set `input_example` parameter when logging the model to auto infer the model signature.\u001b[0m\n",
      "\n"
     ]
    },
    {
     "name": "stdout",
     "output_type": "stream",
     "text": [
      " 59%|█████▉    | 19/32 [00:36<00:25,  1.95s/trial, best loss: 648.2842657918058]"
     ]
    },
    {
     "name": "stderr",
     "output_type": "stream",
     "text": [
      "\u001b[31m2025/03/24 23:51:33 WARNING mlflow.models.model: Model logged without a signature and input example. Please set `input_example` parameter when logging the model to auto infer the model signature.\u001b[0m\n",
      "\n"
     ]
    },
    {
     "name": "stdout",
     "output_type": "stream",
     "text": [
      " 62%|██████▎   | 20/32 [00:38<00:23,  1.98s/trial, best loss: 648.2842657918058]"
     ]
    },
    {
     "name": "stderr",
     "output_type": "stream",
     "text": [
      "\u001b[31m2025/03/24 23:51:35 WARNING mlflow.models.model: Model logged without a signature and input example. Please set `input_example` parameter when logging the model to auto infer the model signature.\u001b[0m\n",
      "\n"
     ]
    },
    {
     "name": "stdout",
     "output_type": "stream",
     "text": [
      " 66%|██████▌   | 21/32 [00:40<00:21,  1.93s/trial, best loss: 648.2842657918058]"
     ]
    },
    {
     "name": "stderr",
     "output_type": "stream",
     "text": [
      "\u001b[31m2025/03/24 23:51:37 WARNING mlflow.models.model: Model logged without a signature and input example. Please set `input_example` parameter when logging the model to auto infer the model signature.\u001b[0m\n",
      "\n"
     ]
    },
    {
     "name": "stdout",
     "output_type": "stream",
     "text": [
      " 69%|██████▉   | 22/32 [00:42<00:18,  1.88s/trial, best loss: 648.2842657918058]"
     ]
    },
    {
     "name": "stderr",
     "output_type": "stream",
     "text": [
      "\u001b[31m2025/03/24 23:51:40 WARNING mlflow.models.model: Model logged without a signature and input example. Please set `input_example` parameter when logging the model to auto infer the model signature.\u001b[0m\n",
      "\n"
     ]
    },
    {
     "name": "stdout",
     "output_type": "stream",
     "text": [
      " 72%|███████▏  | 23/32 [00:45<00:19,  2.13s/trial, best loss: 648.2842657918058]"
     ]
    },
    {
     "name": "stderr",
     "output_type": "stream",
     "text": [
      "\u001b[31m2025/03/24 23:51:41 WARNING mlflow.models.model: Model logged without a signature and input example. Please set `input_example` parameter when logging the model to auto infer the model signature.\u001b[0m\n",
      "\n"
     ]
    },
    {
     "name": "stdout",
     "output_type": "stream",
     "text": [
      " 75%|███████▌  | 24/32 [00:46<00:16,  2.05s/trial, best loss: 648.2842657918058]"
     ]
    },
    {
     "name": "stderr",
     "output_type": "stream",
     "text": [
      "\u001b[31m2025/03/24 23:51:43 WARNING mlflow.models.model: Model logged without a signature and input example. Please set `input_example` parameter when logging the model to auto infer the model signature.\u001b[0m\n",
      "\n"
     ]
    },
    {
     "name": "stdout",
     "output_type": "stream",
     "text": [
      " 78%|███████▊  | 25/32 [00:48<00:14,  2.03s/trial, best loss: 648.2842657918058]"
     ]
    },
    {
     "name": "stderr",
     "output_type": "stream",
     "text": [
      "\u001b[31m2025/03/24 23:51:45 WARNING mlflow.models.model: Model logged without a signature and input example. Please set `input_example` parameter when logging the model to auto infer the model signature.\u001b[0m\n",
      "\n"
     ]
    },
    {
     "name": "stdout",
     "output_type": "stream",
     "text": [
      " 81%|████████▏ | 26/32 [00:50<00:12,  2.02s/trial, best loss: 648.2842657918058]"
     ]
    },
    {
     "name": "stderr",
     "output_type": "stream",
     "text": [
      "\u001b[31m2025/03/24 23:51:47 WARNING mlflow.models.model: Model logged without a signature and input example. Please set `input_example` parameter when logging the model to auto infer the model signature.\u001b[0m\n",
      "\n"
     ]
    },
    {
     "name": "stdout",
     "output_type": "stream",
     "text": [
      " 84%|████████▍ | 27/32 [00:52<00:09,  1.88s/trial, best loss: 648.2842657918058]"
     ]
    },
    {
     "name": "stderr",
     "output_type": "stream",
     "text": [
      "\u001b[31m2025/03/24 23:51:49 WARNING mlflow.models.model: Model logged without a signature and input example. Please set `input_example` parameter when logging the model to auto infer the model signature.\u001b[0m\n",
      "\n"
     ]
    },
    {
     "name": "stdout",
     "output_type": "stream",
     "text": [
      " 88%|████████▊ | 28/32 [00:54<00:07,  1.82s/trial, best loss: 648.2842657918058]"
     ]
    },
    {
     "name": "stderr",
     "output_type": "stream",
     "text": [
      "\u001b[31m2025/03/24 23:51:50 WARNING mlflow.models.model: Model logged without a signature and input example. Please set `input_example` parameter when logging the model to auto infer the model signature.\u001b[0m\n",
      "\n"
     ]
    },
    {
     "name": "stdout",
     "output_type": "stream",
     "text": [
      " 91%|█████████ | 29/32 [00:55<00:05,  1.77s/trial, best loss: 648.2842657918058]"
     ]
    },
    {
     "name": "stderr",
     "output_type": "stream",
     "text": [
      "\u001b[31m2025/03/24 23:51:52 WARNING mlflow.models.model: Model logged without a signature and input example. Please set `input_example` parameter when logging the model to auto infer the model signature.\u001b[0m\n",
      "\n"
     ]
    },
    {
     "name": "stdout",
     "output_type": "stream",
     "text": [
      " 94%|█████████▍| 30/32 [00:57<00:03,  1.70s/trial, best loss: 648.2842657918058]"
     ]
    },
    {
     "name": "stderr",
     "output_type": "stream",
     "text": [
      "\u001b[31m2025/03/24 23:51:53 WARNING mlflow.models.model: Model logged without a signature and input example. Please set `input_example` parameter when logging the model to auto infer the model signature.\u001b[0m\n",
      "\n"
     ]
    },
    {
     "name": "stdout",
     "output_type": "stream",
     "text": [
      " 97%|█████████▋| 31/32 [00:58<00:01,  1.68s/trial, best loss: 648.2842657918058]"
     ]
    },
    {
     "name": "stderr",
     "output_type": "stream",
     "text": [
      "\u001b[31m2025/03/24 23:51:55 WARNING mlflow.models.model: Model logged without a signature and input example. Please set `input_example` parameter when logging the model to auto infer the model signature.\u001b[0m\n",
      "\n"
     ]
    },
    {
     "name": "stdout",
     "output_type": "stream",
     "text": [
      "100%|██████████| 32/32 [01:00<00:00,  1.89s/trial, best loss: 648.2842657918058]\n"
     ]
    }
   ],
   "source": [
    "def objective(params):\n",
    "    with mlflow.start_run():\n",
    "        model_type = params['type']\n",
    "        del params['type']\n",
    "        \n",
    "        # Create model based on type\n",
    "        if model_type == 'lr':\n",
    "            model = LinearRegression(**params)\n",
    "        elif model_type == 'dt':\n",
    "            model = DecisionTreeRegressor(**params)\n",
    "        elif model_type == 'rf':\n",
    "            model = RandomForestRegressor(**params)\n",
    "        else:\n",
    "            return 0\n",
    "        \n",
    "        # Fit the model\n",
    "        model.fit(X_train_scaled, y_train)\n",
    "        \n",
    "        # Make predictions on train and test sets\n",
    "        train_pred = model.predict(X_train_scaled)\n",
    "        test_pred = model.predict(X_test_scaled)\n",
    "        \n",
    "        # Calculate RMSE for both sets\n",
    "        train_rmse = np.sqrt(mean_squared_error(y_train, train_pred))\n",
    "        test_rmse = np.sqrt(mean_squared_error(y_test, test_pred))\n",
    "        \n",
    "        # Calculate R2 scores\n",
    "        train_r2 = r2_score(y_train, train_pred)\n",
    "        test_r2 = r2_score(y_test, test_pred)\n",
    "        \n",
    "        # Log everything with MLflow\n",
    "        mlflow.set_tag(\"Model\", model_type)\n",
    "        mlflow.log_params(params)\n",
    "        mlflow.log_metric(\"train_rmse\", train_rmse)\n",
    "        mlflow.log_metric(\"test_rmse\", test_rmse)\n",
    "        mlflow.log_metric(\"train_r2\", train_r2)\n",
    "        mlflow.log_metric(\"test_r2\", test_r2)\n",
    "        mlflow.sklearn.log_model(model, artifact_path='models')\n",
    "        \n",
    "        return {'loss': test_rmse, 'status': STATUS_OK}\n",
    "\n",
    "# Define the search space\n",
    "search_space = hp.choice('model_type', [\n",
    "    {\n",
    "        'type': 'lr'  # Linear Regression has no hyperparameters to tune\n",
    "    },\n",
    "    {\n",
    "        'type': 'dt',\n",
    "        'criterion': hp.choice('dt_criterion', ['squared_error', 'friedman_mse', 'absolute_error']),\n",
    "        'max_depth': hp.choice('dt_max_depth', [None, hp.randint('dt_max_depth_int', 1, 10)]),\n",
    "        'min_samples_split': hp.randint('dt_min_samples_split', 2, 10)\n",
    "    },\n",
    "    {\n",
    "        'type': 'rf',\n",
    "        'n_estimators': hp.randint('rf_n_estimators', 20, 500),\n",
    "        'max_features': hp.randint('rf_max_features', 2, X_train.shape[1]),\n",
    "        'criterion': hp.choice('rf_criterion', ['squared_error', 'absolute_error'])\n",
    "    }\n",
    "])\n",
    "\n",
    "# Set up the optimization\n",
    "algo = tpe.suggest\n",
    "trials = Trials()\n",
    "\n",
    "# Run the optimization\n",
    "best_result = fmin(\n",
    "    fn=objective,\n",
    "    space=search_space,\n",
    "    algo=algo,\n",
    "    max_evals=32,\n",
    "    trials=trials\n",
    ")"
   ]
  },
  {
   "cell_type": "code",
   "execution_count": 38,
   "metadata": {},
   "outputs": [
    {
     "data": {
      "text/plain": [
       "[<Experiment: artifact_location='/Users/jennifertran/Desktop/Spring PT 2 2025/mlops/labs/mlruns/1', creation_time=1742883344448, experiment_id='1', last_update_time=1742883344448, lifecycle_stage='active', name='lab2', tags={}>]"
      ]
     },
     "execution_count": 38,
     "metadata": {},
     "output_type": "execute_result"
    }
   ],
   "source": [
    "experiments = mlflow.search_experiments()\n",
    "import os\n",
    "import os\n",
    "experiments"
   ]
  },
  {
   "cell_type": "code",
   "execution_count": 47,
   "metadata": {},
   "outputs": [],
   "source": [
    "import os\n",
    "\n",
    "os.environ['MLFLOW_TRACKING_URI'] = 'http://127.0.0.1:5020'\n"
   ]
  },
  {
   "cell_type": "code",
   "execution_count": 48,
   "metadata": {},
   "outputs": [
    {
     "name": "stderr",
     "output_type": "stream",
     "text": [
      "Registered model 'tech_gadget_ewaste_predictor' already exists. Creating a new version of this model...\n",
      "Created version '4' of model 'tech_gadget_ewaste_predictor'.\n"
     ]
    },
    {
     "data": {
      "text/plain": [
       "<ModelVersion: aliases=[], creation_timestamp=1742885710657, current_stage='None', description=None, last_updated_timestamp=1742885710657, name='tech_gadget_ewaste_predictor', run_id='cc531d7edebe48ac844a9d3f2a271f00', run_link=None, source=('/Users/jennifertran/Desktop/Spring PT 2 '\n",
       " '2025/mlops/labs/mlruns/1/cc531d7edebe48ac844a9d3f2a271f00/artifacts/model'), status='READY', status_message=None, tags={}, user_id=None, version=4>"
      ]
     },
     "execution_count": 48,
     "metadata": {},
     "output_type": "execute_result"
    }
   ],
   "source": [
    "best_run_id = \"cc531d7edebe48ac844a9d3f2a271f00\" \n",
    "model_uri = f\"runs:/{best_run_id}/model\"\n",
    "mlflow.register_model(model_uri, \"tech_gadget_ewaste_predictor\")"
   ]
  },
  {
   "cell_type": "code",
   "execution_count": 50,
   "metadata": {},
   "outputs": [
    {
     "ename": "OSError",
     "evalue": "No such file or directory: '/Users/jennifertran/Desktop/Spring PT 2 2025/mlops/labs/mlruns/1/cc531d7edebe48ac844a9d3f2a271f00/artifacts/model'",
     "output_type": "error",
     "traceback": [
      "\u001b[31m---------------------------------------------------------------------------\u001b[39m",
      "\u001b[31mOSError\u001b[39m                                   Traceback (most recent call last)",
      "\u001b[36mCell\u001b[39m\u001b[36m \u001b[39m\u001b[32mIn[50]\u001b[39m\u001b[32m, line 1\u001b[39m\n\u001b[32m----> \u001b[39m\u001b[32m1\u001b[39m best_model = \u001b[43mmlflow\u001b[49m\u001b[43m.\u001b[49m\u001b[43msklearn\u001b[49m\u001b[43m.\u001b[49m\u001b[43mload_model\u001b[49m\u001b[43m(\u001b[49m\u001b[43mmodel_uri\u001b[49m\u001b[43m)\u001b[49m\n\u001b[32m      2\u001b[39m test_predictions = best_model.predict(X_test_scaled)\n\u001b[32m      3\u001b[39m test_rmse = np.sqrt(mean_squared_error(y_test, test_predictions))\n",
      "\u001b[36mFile \u001b[39m\u001b[32m~/Desktop/Spring PT 2 2025/mlops/mlops/lib/python3.13/site-packages/mlflow/sklearn/__init__.py:633\u001b[39m, in \u001b[36mload_model\u001b[39m\u001b[34m(model_uri, dst_path)\u001b[39m\n\u001b[32m    598\u001b[39m \u001b[38;5;28;01mdef\u001b[39;00m\u001b[38;5;250m \u001b[39m\u001b[34mload_model\u001b[39m(model_uri, dst_path=\u001b[38;5;28;01mNone\u001b[39;00m):\n\u001b[32m    599\u001b[39m \u001b[38;5;250m    \u001b[39m\u001b[33;03m\"\"\"\u001b[39;00m\n\u001b[32m    600\u001b[39m \u001b[33;03m    Load a scikit-learn model from a local file or a run.\u001b[39;00m\n\u001b[32m    601\u001b[39m \n\u001b[32m   (...)\u001b[39m\u001b[32m    631\u001b[39m \u001b[33;03m        predictions = sk_model.predict(pandas_df)\u001b[39;00m\n\u001b[32m    632\u001b[39m \u001b[33;03m    \"\"\"\u001b[39;00m\n\u001b[32m--> \u001b[39m\u001b[32m633\u001b[39m     local_model_path = \u001b[43m_download_artifact_from_uri\u001b[49m\u001b[43m(\u001b[49m\u001b[43martifact_uri\u001b[49m\u001b[43m=\u001b[49m\u001b[43mmodel_uri\u001b[49m\u001b[43m,\u001b[49m\u001b[43m \u001b[49m\u001b[43moutput_path\u001b[49m\u001b[43m=\u001b[49m\u001b[43mdst_path\u001b[49m\u001b[43m)\u001b[49m\n\u001b[32m    634\u001b[39m     flavor_conf = _get_flavor_configuration(model_path=local_model_path, flavor_name=FLAVOR_NAME)\n\u001b[32m    635\u001b[39m     _add_code_from_conf_to_system_path(local_model_path, flavor_conf)\n",
      "\u001b[36mFile \u001b[39m\u001b[32m~/Desktop/Spring PT 2 2025/mlops/mlops/lib/python3.13/site-packages/mlflow/tracking/artifact_utils.py:116\u001b[39m, in \u001b[36m_download_artifact_from_uri\u001b[39m\u001b[34m(artifact_uri, output_path, lineage_header_info)\u001b[39m\n\u001b[32m    110\u001b[39m \u001b[38;5;28;01mif\u001b[39;00m \u001b[38;5;28misinstance\u001b[39m(repo, ModelsArtifactRepository):\n\u001b[32m    111\u001b[39m     \u001b[38;5;28;01mreturn\u001b[39;00m repo.download_artifacts(\n\u001b[32m    112\u001b[39m         artifact_path=artifact_path,\n\u001b[32m    113\u001b[39m         dst_path=output_path,\n\u001b[32m    114\u001b[39m         lineage_header_info=lineage_header_info,\n\u001b[32m    115\u001b[39m     )\n\u001b[32m--> \u001b[39m\u001b[32m116\u001b[39m \u001b[38;5;28;01mreturn\u001b[39;00m \u001b[43mrepo\u001b[49m\u001b[43m.\u001b[49m\u001b[43mdownload_artifacts\u001b[49m\u001b[43m(\u001b[49m\u001b[43martifact_path\u001b[49m\u001b[43m=\u001b[49m\u001b[43martifact_path\u001b[49m\u001b[43m,\u001b[49m\u001b[43m \u001b[49m\u001b[43mdst_path\u001b[49m\u001b[43m=\u001b[49m\u001b[43moutput_path\u001b[49m\u001b[43m)\u001b[49m\n",
      "\u001b[36mFile \u001b[39m\u001b[32m~/Desktop/Spring PT 2 2025/mlops/mlops/lib/python3.13/site-packages/mlflow/store/artifact/runs_artifact_repo.py:131\u001b[39m, in \u001b[36mRunsArtifactRepository.download_artifacts\u001b[39m\u001b[34m(self, artifact_path, dst_path)\u001b[39m\n\u001b[32m    114\u001b[39m \u001b[38;5;28;01mdef\u001b[39;00m\u001b[38;5;250m \u001b[39m\u001b[34mdownload_artifacts\u001b[39m(\u001b[38;5;28mself\u001b[39m, artifact_path, dst_path=\u001b[38;5;28;01mNone\u001b[39;00m):\n\u001b[32m    115\u001b[39m \u001b[38;5;250m    \u001b[39m\u001b[33;03m\"\"\"\u001b[39;00m\n\u001b[32m    116\u001b[39m \u001b[33;03m    Download an artifact file or directory to a local directory if applicable, and return a\u001b[39;00m\n\u001b[32m    117\u001b[39m \u001b[33;03m    local path for it.\u001b[39;00m\n\u001b[32m   (...)\u001b[39m\u001b[32m    129\u001b[39m \u001b[33;03m        Absolute path of the local filesystem location containing the desired artifacts.\u001b[39;00m\n\u001b[32m    130\u001b[39m \u001b[33;03m    \"\"\"\u001b[39;00m\n\u001b[32m--> \u001b[39m\u001b[32m131\u001b[39m     \u001b[38;5;28;01mreturn\u001b[39;00m \u001b[38;5;28;43mself\u001b[39;49m\u001b[43m.\u001b[49m\u001b[43mrepo\u001b[49m\u001b[43m.\u001b[49m\u001b[43mdownload_artifacts\u001b[49m\u001b[43m(\u001b[49m\u001b[43martifact_path\u001b[49m\u001b[43m,\u001b[49m\u001b[43m \u001b[49m\u001b[43mdst_path\u001b[49m\u001b[43m)\u001b[49m\n",
      "\u001b[36mFile \u001b[39m\u001b[32m~/Desktop/Spring PT 2 2025/mlops/mlops/lib/python3.13/site-packages/mlflow/store/artifact/local_artifact_repo.py:91\u001b[39m, in \u001b[36mLocalArtifactRepository.download_artifacts\u001b[39m\u001b[34m(self, artifact_path, dst_path)\u001b[39m\n\u001b[32m     89\u001b[39m local_artifact_path = os.path.join(\u001b[38;5;28mself\u001b[39m.artifact_dir, os.path.normpath(artifact_path))\n\u001b[32m     90\u001b[39m \u001b[38;5;28;01mif\u001b[39;00m \u001b[38;5;129;01mnot\u001b[39;00m os.path.exists(local_artifact_path):\n\u001b[32m---> \u001b[39m\u001b[32m91\u001b[39m     \u001b[38;5;28;01mraise\u001b[39;00m \u001b[38;5;167;01mOSError\u001b[39;00m(\u001b[33mf\u001b[39m\u001b[33m\"\u001b[39m\u001b[33mNo such file or directory: \u001b[39m\u001b[33m'\u001b[39m\u001b[38;5;132;01m{\u001b[39;00mlocal_artifact_path\u001b[38;5;132;01m}\u001b[39;00m\u001b[33m'\u001b[39m\u001b[33m\"\u001b[39m)\n\u001b[32m     92\u001b[39m \u001b[38;5;28;01mreturn\u001b[39;00m os.path.abspath(local_artifact_path)\n",
      "\u001b[31mOSError\u001b[39m: No such file or directory: '/Users/jennifertran/Desktop/Spring PT 2 2025/mlops/labs/mlruns/1/cc531d7edebe48ac844a9d3f2a271f00/artifacts/model'"
     ]
    }
   ],
   "source": [
    "best_model = mlflow.sklearn.load_model(model_uri)\n",
    "test_predictions = best_model.predict(X_test_scaled)\n",
    "test_rmse = np.sqrt(mean_squared_error(y_test, test_predictions))\n",
    "test_r2 = r2_score(y_test, test_predictions)"
   ]
  },
  {
   "cell_type": "code",
   "execution_count": 141,
   "metadata": {},
   "outputs": [
    {
     "name": "stderr",
     "output_type": "stream",
     "text": [
      "Successfully registered model 'tech_gadget_ewaste_predictor'.\n",
      "Created version '1' of model 'tech_gadget_ewaste_predictor'.\n"
     ]
    }
   ],
   "source": [
    "with mlflow.start_run():\n",
    "    mlflow.log_metric(\"test_rmse\", test_rmse)\n",
    "    mlflow.log_metric(\"test_r2\", test_r2)\n",
    "    mlflow.set_tag(\"run_type\", \"test_evaluation\")"
   ]
  },
  {
   "cell_type": "markdown",
   "metadata": {},
   "source": []
  }
 ],
 "metadata": {
  "kernelspec": {
   "display_name": "mlops",
   "language": "python",
   "name": "python3"
  },
  "language_info": {
   "codemirror_mode": {
    "name": "ipython",
    "version": 3
   },
   "file_extension": ".py",
   "mimetype": "text/x-python",
   "name": "python",
   "nbconvert_exporter": "python",
   "pygments_lexer": "ipython3",
   "version": "3.13.2"
  }
 },
 "nbformat": 4,
 "nbformat_minor": 2
}
